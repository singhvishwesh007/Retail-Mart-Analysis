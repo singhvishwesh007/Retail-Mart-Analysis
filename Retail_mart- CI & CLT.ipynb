{
 "cells": [
  {
   "cell_type": "code",
   "execution_count": 1,
   "id": "6ff93c77-794c-4fda-8279-9e4a974e1c8f",
   "metadata": {},
   "outputs": [],
   "source": [
    "import numpy as np\n",
    "import pandas as pd\n",
    "import matplotlib.pyplot as plt\n",
    "import seaborn as sns\n",
    "import math\n",
    "from scipy.stats import norm, binom, geom"
   ]
  },
  {
   "cell_type": "markdown",
   "id": "ed33657a",
   "metadata": {},
   "source": [
    "## (i) About Retail mart:\n",
    "1. This project centres around a well-known American multinational retail corporation.\n",
    "2. Thus corporation manaages a chain of supercenters, discount departmental stores, and grocery stores ascross the United States.\n",
    "\n",
    "## (ii) Business Problems:\n",
    "1. The main aim of this project is to examine customer purchasing behavior in relation to various attributes, providing valuable insights to aid in informed business decisions.\n",
    "2. To ascertain whether there are variations in spending patterns between male and female customers.\n",
    "3. Do women spend more on Black Friday than men"
   ]
  },
  {
   "cell_type": "code",
   "execution_count": 2,
   "id": "de2449a9",
   "metadata": {},
   "outputs": [],
   "source": [
    "df1=pd.read_csv('mart.txt')\n",
    "df=df1.copy()"
   ]
  },
  {
   "cell_type": "markdown",
   "id": "cd2d6646",
   "metadata": {},
   "source": [
    "## A. Data Exploration"
   ]
  },
  {
   "cell_type": "markdown",
   "id": "5bf76e54",
   "metadata": {},
   "source": [
    "### 1. Shape of data\n",
    "1. There are 550068 rows and 10 columns."
   ]
  },
  {
   "cell_type": "code",
   "execution_count": 3,
   "id": "25c95e19",
   "metadata": {},
   "outputs": [
    {
     "data": {
      "text/plain": [
       "(550068, 10)"
      ]
     },
     "execution_count": 3,
     "metadata": {},
     "output_type": "execute_result"
    }
   ],
   "source": [
    "df.shape"
   ]
  },
  {
   "cell_type": "markdown",
   "id": "5ed1bdb4",
   "metadata": {},
   "source": [
    "### 2. First 5-Rows"
   ]
  },
  {
   "cell_type": "code",
   "execution_count": 4,
   "id": "fb74dca5",
   "metadata": {},
   "outputs": [
    {
     "data": {
      "text/html": [
       "<div>\n",
       "<style scoped>\n",
       "    .dataframe tbody tr th:only-of-type {\n",
       "        vertical-align: middle;\n",
       "    }\n",
       "\n",
       "    .dataframe tbody tr th {\n",
       "        vertical-align: top;\n",
       "    }\n",
       "\n",
       "    .dataframe thead th {\n",
       "        text-align: right;\n",
       "    }\n",
       "</style>\n",
       "<table border=\"1\" class=\"dataframe\">\n",
       "  <thead>\n",
       "    <tr style=\"text-align: right;\">\n",
       "      <th></th>\n",
       "      <th>User_ID</th>\n",
       "      <th>Product_ID</th>\n",
       "      <th>Gender</th>\n",
       "      <th>Age</th>\n",
       "      <th>Occupation</th>\n",
       "      <th>City_Category</th>\n",
       "      <th>Stay_In_Current_City_Years</th>\n",
       "      <th>Marital_Status</th>\n",
       "      <th>Product_Category</th>\n",
       "      <th>Purchase</th>\n",
       "    </tr>\n",
       "  </thead>\n",
       "  <tbody>\n",
       "    <tr>\n",
       "      <th>0</th>\n",
       "      <td>1000001</td>\n",
       "      <td>P00069042</td>\n",
       "      <td>F</td>\n",
       "      <td>0-17</td>\n",
       "      <td>10</td>\n",
       "      <td>A</td>\n",
       "      <td>2</td>\n",
       "      <td>0</td>\n",
       "      <td>3</td>\n",
       "      <td>8370</td>\n",
       "    </tr>\n",
       "    <tr>\n",
       "      <th>1</th>\n",
       "      <td>1000001</td>\n",
       "      <td>P00248942</td>\n",
       "      <td>F</td>\n",
       "      <td>0-17</td>\n",
       "      <td>10</td>\n",
       "      <td>A</td>\n",
       "      <td>2</td>\n",
       "      <td>0</td>\n",
       "      <td>1</td>\n",
       "      <td>15200</td>\n",
       "    </tr>\n",
       "    <tr>\n",
       "      <th>2</th>\n",
       "      <td>1000001</td>\n",
       "      <td>P00087842</td>\n",
       "      <td>F</td>\n",
       "      <td>0-17</td>\n",
       "      <td>10</td>\n",
       "      <td>A</td>\n",
       "      <td>2</td>\n",
       "      <td>0</td>\n",
       "      <td>12</td>\n",
       "      <td>1422</td>\n",
       "    </tr>\n",
       "    <tr>\n",
       "      <th>3</th>\n",
       "      <td>1000001</td>\n",
       "      <td>P00085442</td>\n",
       "      <td>F</td>\n",
       "      <td>0-17</td>\n",
       "      <td>10</td>\n",
       "      <td>A</td>\n",
       "      <td>2</td>\n",
       "      <td>0</td>\n",
       "      <td>12</td>\n",
       "      <td>1057</td>\n",
       "    </tr>\n",
       "    <tr>\n",
       "      <th>4</th>\n",
       "      <td>1000002</td>\n",
       "      <td>P00285442</td>\n",
       "      <td>M</td>\n",
       "      <td>55+</td>\n",
       "      <td>16</td>\n",
       "      <td>C</td>\n",
       "      <td>4+</td>\n",
       "      <td>0</td>\n",
       "      <td>8</td>\n",
       "      <td>7969</td>\n",
       "    </tr>\n",
       "  </tbody>\n",
       "</table>\n",
       "</div>"
      ],
      "text/plain": [
       "   User_ID Product_ID Gender   Age  Occupation City_Category  \\\n",
       "0  1000001  P00069042      F  0-17          10             A   \n",
       "1  1000001  P00248942      F  0-17          10             A   \n",
       "2  1000001  P00087842      F  0-17          10             A   \n",
       "3  1000001  P00085442      F  0-17          10             A   \n",
       "4  1000002  P00285442      M   55+          16             C   \n",
       "\n",
       "  Stay_In_Current_City_Years  Marital_Status  Product_Category  Purchase  \n",
       "0                          2               0                 3      8370  \n",
       "1                          2               0                 1     15200  \n",
       "2                          2               0                12      1422  \n",
       "3                          2               0                12      1057  \n",
       "4                         4+               0                 8      7969  "
      ]
     },
     "execution_count": 4,
     "metadata": {},
     "output_type": "execute_result"
    }
   ],
   "source": [
    "df.head()"
   ]
  },
  {
   "cell_type": "markdown",
   "id": "c0dfb005",
   "metadata": {},
   "source": [
    "### 3. Last 5-Rows"
   ]
  },
  {
   "cell_type": "code",
   "execution_count": 5,
   "id": "7567f900",
   "metadata": {},
   "outputs": [
    {
     "data": {
      "text/html": [
       "<div>\n",
       "<style scoped>\n",
       "    .dataframe tbody tr th:only-of-type {\n",
       "        vertical-align: middle;\n",
       "    }\n",
       "\n",
       "    .dataframe tbody tr th {\n",
       "        vertical-align: top;\n",
       "    }\n",
       "\n",
       "    .dataframe thead th {\n",
       "        text-align: right;\n",
       "    }\n",
       "</style>\n",
       "<table border=\"1\" class=\"dataframe\">\n",
       "  <thead>\n",
       "    <tr style=\"text-align: right;\">\n",
       "      <th></th>\n",
       "      <th>User_ID</th>\n",
       "      <th>Product_ID</th>\n",
       "      <th>Gender</th>\n",
       "      <th>Age</th>\n",
       "      <th>Occupation</th>\n",
       "      <th>City_Category</th>\n",
       "      <th>Stay_In_Current_City_Years</th>\n",
       "      <th>Marital_Status</th>\n",
       "      <th>Product_Category</th>\n",
       "      <th>Purchase</th>\n",
       "    </tr>\n",
       "  </thead>\n",
       "  <tbody>\n",
       "    <tr>\n",
       "      <th>550063</th>\n",
       "      <td>1006033</td>\n",
       "      <td>P00372445</td>\n",
       "      <td>M</td>\n",
       "      <td>51-55</td>\n",
       "      <td>13</td>\n",
       "      <td>B</td>\n",
       "      <td>1</td>\n",
       "      <td>1</td>\n",
       "      <td>20</td>\n",
       "      <td>368</td>\n",
       "    </tr>\n",
       "    <tr>\n",
       "      <th>550064</th>\n",
       "      <td>1006035</td>\n",
       "      <td>P00375436</td>\n",
       "      <td>F</td>\n",
       "      <td>26-35</td>\n",
       "      <td>1</td>\n",
       "      <td>C</td>\n",
       "      <td>3</td>\n",
       "      <td>0</td>\n",
       "      <td>20</td>\n",
       "      <td>371</td>\n",
       "    </tr>\n",
       "    <tr>\n",
       "      <th>550065</th>\n",
       "      <td>1006036</td>\n",
       "      <td>P00375436</td>\n",
       "      <td>F</td>\n",
       "      <td>26-35</td>\n",
       "      <td>15</td>\n",
       "      <td>B</td>\n",
       "      <td>4+</td>\n",
       "      <td>1</td>\n",
       "      <td>20</td>\n",
       "      <td>137</td>\n",
       "    </tr>\n",
       "    <tr>\n",
       "      <th>550066</th>\n",
       "      <td>1006038</td>\n",
       "      <td>P00375436</td>\n",
       "      <td>F</td>\n",
       "      <td>55+</td>\n",
       "      <td>1</td>\n",
       "      <td>C</td>\n",
       "      <td>2</td>\n",
       "      <td>0</td>\n",
       "      <td>20</td>\n",
       "      <td>365</td>\n",
       "    </tr>\n",
       "    <tr>\n",
       "      <th>550067</th>\n",
       "      <td>1006039</td>\n",
       "      <td>P00371644</td>\n",
       "      <td>F</td>\n",
       "      <td>46-50</td>\n",
       "      <td>0</td>\n",
       "      <td>B</td>\n",
       "      <td>4+</td>\n",
       "      <td>1</td>\n",
       "      <td>20</td>\n",
       "      <td>490</td>\n",
       "    </tr>\n",
       "  </tbody>\n",
       "</table>\n",
       "</div>"
      ],
      "text/plain": [
       "        User_ID Product_ID Gender    Age  Occupation City_Category  \\\n",
       "550063  1006033  P00372445      M  51-55          13             B   \n",
       "550064  1006035  P00375436      F  26-35           1             C   \n",
       "550065  1006036  P00375436      F  26-35          15             B   \n",
       "550066  1006038  P00375436      F    55+           1             C   \n",
       "550067  1006039  P00371644      F  46-50           0             B   \n",
       "\n",
       "       Stay_In_Current_City_Years  Marital_Status  Product_Category  Purchase  \n",
       "550063                          1               1                20       368  \n",
       "550064                          3               0                20       371  \n",
       "550065                         4+               1                20       137  \n",
       "550066                          2               0                20       365  \n",
       "550067                         4+               1                20       490  "
      ]
     },
     "execution_count": 5,
     "metadata": {},
     "output_type": "execute_result"
    }
   ],
   "source": [
    "df.tail()"
   ]
  },
  {
   "cell_type": "markdown",
   "id": "03c30696",
   "metadata": {},
   "source": [
    "### 4. Name of Columns"
   ]
  },
  {
   "cell_type": "code",
   "execution_count": 6,
   "id": "30f0a85e",
   "metadata": {},
   "outputs": [
    {
     "data": {
      "text/plain": [
       "Index(['User_ID', 'Product_ID', 'Gender', 'Age', 'Occupation', 'City_Category',\n",
       "       'Stay_In_Current_City_Years', 'Marital_Status', 'Product_Category',\n",
       "       'Purchase'],\n",
       "      dtype='object')"
      ]
     },
     "execution_count": 6,
     "metadata": {},
     "output_type": "execute_result"
    }
   ],
   "source": [
    "df.columns"
   ]
  },
  {
   "cell_type": "markdown",
   "id": "e2582ae9",
   "metadata": {},
   "source": [
    "### 5. Range of index\n",
    "1. Starting index=0, Last index=550068"
   ]
  },
  {
   "cell_type": "code",
   "execution_count": 7,
   "id": "cc5fa361",
   "metadata": {},
   "outputs": [
    {
     "data": {
      "text/plain": [
       "RangeIndex(start=0, stop=550068, step=1)"
      ]
     },
     "execution_count": 7,
     "metadata": {},
     "output_type": "execute_result"
    }
   ],
   "source": [
    "df.index"
   ]
  },
  {
   "cell_type": "markdown",
   "id": "cbdace4b",
   "metadata": {},
   "source": [
    "### 6. Total number of elements in dataset"
   ]
  },
  {
   "cell_type": "code",
   "execution_count": 8,
   "id": "cb25cd05",
   "metadata": {},
   "outputs": [
    {
     "data": {
      "text/plain": [
       "5500680"
      ]
     },
     "execution_count": 8,
     "metadata": {},
     "output_type": "execute_result"
    }
   ],
   "source": [
    "df.size"
   ]
  },
  {
   "cell_type": "markdown",
   "id": "8c3f999b",
   "metadata": {},
   "source": [
    "### 7. Checking duplicated rows"
   ]
  },
  {
   "cell_type": "code",
   "execution_count": 9,
   "id": "f76bb760",
   "metadata": {},
   "outputs": [
    {
     "data": {
      "text/html": [
       "<div>\n",
       "<style scoped>\n",
       "    .dataframe tbody tr th:only-of-type {\n",
       "        vertical-align: middle;\n",
       "    }\n",
       "\n",
       "    .dataframe tbody tr th {\n",
       "        vertical-align: top;\n",
       "    }\n",
       "\n",
       "    .dataframe thead th {\n",
       "        text-align: right;\n",
       "    }\n",
       "</style>\n",
       "<table border=\"1\" class=\"dataframe\">\n",
       "  <thead>\n",
       "    <tr style=\"text-align: right;\">\n",
       "      <th></th>\n",
       "      <th>User_ID</th>\n",
       "      <th>Product_ID</th>\n",
       "      <th>Gender</th>\n",
       "      <th>Age</th>\n",
       "      <th>Occupation</th>\n",
       "      <th>City_Category</th>\n",
       "      <th>Stay_In_Current_City_Years</th>\n",
       "      <th>Marital_Status</th>\n",
       "      <th>Product_Category</th>\n",
       "      <th>Purchase</th>\n",
       "    </tr>\n",
       "  </thead>\n",
       "  <tbody>\n",
       "  </tbody>\n",
       "</table>\n",
       "</div>"
      ],
      "text/plain": [
       "Empty DataFrame\n",
       "Columns: [User_ID, Product_ID, Gender, Age, Occupation, City_Category, Stay_In_Current_City_Years, Marital_Status, Product_Category, Purchase]\n",
       "Index: []"
      ]
     },
     "execution_count": 9,
     "metadata": {},
     "output_type": "execute_result"
    }
   ],
   "source": [
    "df[df.duplicated()]"
   ]
  },
  {
   "cell_type": "markdown",
   "id": "aa8f8a1f",
   "metadata": {},
   "source": [
    "### 8. Checking missing Values:"
   ]
  },
  {
   "cell_type": "code",
   "execution_count": 10,
   "id": "8d527793",
   "metadata": {},
   "outputs": [
    {
     "data": {
      "text/plain": [
       "User_ID                       0\n",
       "Product_ID                    0\n",
       "Gender                        0\n",
       "Age                           0\n",
       "Occupation                    0\n",
       "City_Category                 0\n",
       "Stay_In_Current_City_Years    0\n",
       "Marital_Status                0\n",
       "Product_Category              0\n",
       "Purchase                      0\n",
       "dtype: int64"
      ]
     },
     "execution_count": 10,
     "metadata": {},
     "output_type": "execute_result"
    }
   ],
   "source": [
    "df.isnull().sum()"
   ]
  },
  {
   "cell_type": "markdown",
   "id": "b4840f2d",
   "metadata": {},
   "source": [
    "### 9. Dataset Information"
   ]
  },
  {
   "cell_type": "code",
   "execution_count": 11,
   "id": "1403912c",
   "metadata": {},
   "outputs": [
    {
     "name": "stdout",
     "output_type": "stream",
     "text": [
      "<class 'pandas.core.frame.DataFrame'>\n",
      "RangeIndex: 550068 entries, 0 to 550067\n",
      "Data columns (total 10 columns):\n",
      " #   Column                      Non-Null Count   Dtype \n",
      "---  ------                      --------------   ----- \n",
      " 0   User_ID                     550068 non-null  int64 \n",
      " 1   Product_ID                  550068 non-null  object\n",
      " 2   Gender                      550068 non-null  object\n",
      " 3   Age                         550068 non-null  object\n",
      " 4   Occupation                  550068 non-null  int64 \n",
      " 5   City_Category               550068 non-null  object\n",
      " 6   Stay_In_Current_City_Years  550068 non-null  object\n",
      " 7   Marital_Status              550068 non-null  int64 \n",
      " 8   Product_Category            550068 non-null  int64 \n",
      " 9   Purchase                    550068 non-null  int64 \n",
      "dtypes: int64(5), object(5)\n",
      "memory usage: 42.0+ MB\n"
     ]
    }
   ],
   "source": [
    "df.info()"
   ]
  },
  {
   "cell_type": "markdown",
   "id": "b6401b1b",
   "metadata": {},
   "source": [
    "### 10. Statistical properties "
   ]
  },
  {
   "cell_type": "code",
   "execution_count": 12,
   "id": "81d1faca",
   "metadata": {},
   "outputs": [
    {
     "data": {
      "text/html": [
       "<div>\n",
       "<style scoped>\n",
       "    .dataframe tbody tr th:only-of-type {\n",
       "        vertical-align: middle;\n",
       "    }\n",
       "\n",
       "    .dataframe tbody tr th {\n",
       "        vertical-align: top;\n",
       "    }\n",
       "\n",
       "    .dataframe thead th {\n",
       "        text-align: right;\n",
       "    }\n",
       "</style>\n",
       "<table border=\"1\" class=\"dataframe\">\n",
       "  <thead>\n",
       "    <tr style=\"text-align: right;\">\n",
       "      <th></th>\n",
       "      <th>User_ID</th>\n",
       "      <th>Product_ID</th>\n",
       "      <th>Gender</th>\n",
       "      <th>Age</th>\n",
       "      <th>Occupation</th>\n",
       "      <th>City_Category</th>\n",
       "      <th>Stay_In_Current_City_Years</th>\n",
       "      <th>Marital_Status</th>\n",
       "      <th>Product_Category</th>\n",
       "      <th>Purchase</th>\n",
       "    </tr>\n",
       "  </thead>\n",
       "  <tbody>\n",
       "    <tr>\n",
       "      <th>count</th>\n",
       "      <td>550068.00</td>\n",
       "      <td>550068</td>\n",
       "      <td>550068</td>\n",
       "      <td>550068</td>\n",
       "      <td>550068.00</td>\n",
       "      <td>550068</td>\n",
       "      <td>550068</td>\n",
       "      <td>550068.00</td>\n",
       "      <td>550068.00</td>\n",
       "      <td>550068.00</td>\n",
       "    </tr>\n",
       "    <tr>\n",
       "      <th>unique</th>\n",
       "      <td>NaN</td>\n",
       "      <td>3631</td>\n",
       "      <td>2</td>\n",
       "      <td>7</td>\n",
       "      <td>NaN</td>\n",
       "      <td>3</td>\n",
       "      <td>5</td>\n",
       "      <td>NaN</td>\n",
       "      <td>NaN</td>\n",
       "      <td>NaN</td>\n",
       "    </tr>\n",
       "    <tr>\n",
       "      <th>top</th>\n",
       "      <td>NaN</td>\n",
       "      <td>P00265242</td>\n",
       "      <td>M</td>\n",
       "      <td>26-35</td>\n",
       "      <td>NaN</td>\n",
       "      <td>B</td>\n",
       "      <td>1</td>\n",
       "      <td>NaN</td>\n",
       "      <td>NaN</td>\n",
       "      <td>NaN</td>\n",
       "    </tr>\n",
       "    <tr>\n",
       "      <th>freq</th>\n",
       "      <td>NaN</td>\n",
       "      <td>1880</td>\n",
       "      <td>414259</td>\n",
       "      <td>219587</td>\n",
       "      <td>NaN</td>\n",
       "      <td>231173</td>\n",
       "      <td>193821</td>\n",
       "      <td>NaN</td>\n",
       "      <td>NaN</td>\n",
       "      <td>NaN</td>\n",
       "    </tr>\n",
       "    <tr>\n",
       "      <th>mean</th>\n",
       "      <td>1003028.84</td>\n",
       "      <td>NaN</td>\n",
       "      <td>NaN</td>\n",
       "      <td>NaN</td>\n",
       "      <td>8.08</td>\n",
       "      <td>NaN</td>\n",
       "      <td>NaN</td>\n",
       "      <td>0.41</td>\n",
       "      <td>5.40</td>\n",
       "      <td>9263.97</td>\n",
       "    </tr>\n",
       "    <tr>\n",
       "      <th>std</th>\n",
       "      <td>1727.59</td>\n",
       "      <td>NaN</td>\n",
       "      <td>NaN</td>\n",
       "      <td>NaN</td>\n",
       "      <td>6.52</td>\n",
       "      <td>NaN</td>\n",
       "      <td>NaN</td>\n",
       "      <td>0.49</td>\n",
       "      <td>3.94</td>\n",
       "      <td>5023.07</td>\n",
       "    </tr>\n",
       "    <tr>\n",
       "      <th>min</th>\n",
       "      <td>1000001.00</td>\n",
       "      <td>NaN</td>\n",
       "      <td>NaN</td>\n",
       "      <td>NaN</td>\n",
       "      <td>0.00</td>\n",
       "      <td>NaN</td>\n",
       "      <td>NaN</td>\n",
       "      <td>0.00</td>\n",
       "      <td>1.00</td>\n",
       "      <td>12.00</td>\n",
       "    </tr>\n",
       "    <tr>\n",
       "      <th>25%</th>\n",
       "      <td>1001516.00</td>\n",
       "      <td>NaN</td>\n",
       "      <td>NaN</td>\n",
       "      <td>NaN</td>\n",
       "      <td>2.00</td>\n",
       "      <td>NaN</td>\n",
       "      <td>NaN</td>\n",
       "      <td>0.00</td>\n",
       "      <td>1.00</td>\n",
       "      <td>5823.00</td>\n",
       "    </tr>\n",
       "    <tr>\n",
       "      <th>50%</th>\n",
       "      <td>1003077.00</td>\n",
       "      <td>NaN</td>\n",
       "      <td>NaN</td>\n",
       "      <td>NaN</td>\n",
       "      <td>7.00</td>\n",
       "      <td>NaN</td>\n",
       "      <td>NaN</td>\n",
       "      <td>0.00</td>\n",
       "      <td>5.00</td>\n",
       "      <td>8047.00</td>\n",
       "    </tr>\n",
       "    <tr>\n",
       "      <th>75%</th>\n",
       "      <td>1004478.00</td>\n",
       "      <td>NaN</td>\n",
       "      <td>NaN</td>\n",
       "      <td>NaN</td>\n",
       "      <td>14.00</td>\n",
       "      <td>NaN</td>\n",
       "      <td>NaN</td>\n",
       "      <td>1.00</td>\n",
       "      <td>8.00</td>\n",
       "      <td>12054.00</td>\n",
       "    </tr>\n",
       "    <tr>\n",
       "      <th>max</th>\n",
       "      <td>1006040.00</td>\n",
       "      <td>NaN</td>\n",
       "      <td>NaN</td>\n",
       "      <td>NaN</td>\n",
       "      <td>20.00</td>\n",
       "      <td>NaN</td>\n",
       "      <td>NaN</td>\n",
       "      <td>1.00</td>\n",
       "      <td>20.00</td>\n",
       "      <td>23961.00</td>\n",
       "    </tr>\n",
       "  </tbody>\n",
       "</table>\n",
       "</div>"
      ],
      "text/plain": [
       "           User_ID Product_ID  Gender     Age  Occupation City_Category  \\\n",
       "count    550068.00     550068  550068  550068   550068.00        550068   \n",
       "unique         NaN       3631       2       7         NaN             3   \n",
       "top            NaN  P00265242       M   26-35         NaN             B   \n",
       "freq           NaN       1880  414259  219587         NaN        231173   \n",
       "mean    1003028.84        NaN     NaN     NaN        8.08           NaN   \n",
       "std        1727.59        NaN     NaN     NaN        6.52           NaN   \n",
       "min     1000001.00        NaN     NaN     NaN        0.00           NaN   \n",
       "25%     1001516.00        NaN     NaN     NaN        2.00           NaN   \n",
       "50%     1003077.00        NaN     NaN     NaN        7.00           NaN   \n",
       "75%     1004478.00        NaN     NaN     NaN       14.00           NaN   \n",
       "max     1006040.00        NaN     NaN     NaN       20.00           NaN   \n",
       "\n",
       "       Stay_In_Current_City_Years  Marital_Status  Product_Category   Purchase  \n",
       "count                      550068       550068.00         550068.00  550068.00  \n",
       "unique                          5             NaN               NaN        NaN  \n",
       "top                             1             NaN               NaN        NaN  \n",
       "freq                       193821             NaN               NaN        NaN  \n",
       "mean                          NaN            0.41              5.40    9263.97  \n",
       "std                           NaN            0.49              3.94    5023.07  \n",
       "min                           NaN            0.00              1.00      12.00  \n",
       "25%                           NaN            0.00              1.00    5823.00  \n",
       "50%                           NaN            0.00              5.00    8047.00  \n",
       "75%                           NaN            1.00              8.00   12054.00  \n",
       "max                           NaN            1.00             20.00   23961.00  "
      ]
     },
     "execution_count": 12,
     "metadata": {},
     "output_type": "execute_result"
    }
   ],
   "source": [
    "df.describe(include='all').round(2)"
   ]
  },
  {
   "cell_type": "markdown",
   "id": "84de6220",
   "metadata": {},
   "source": [
    "### Initial Data exploration summary:\n",
    "1. There are no mssing values in the data\n",
    "2. Thare are 3631 unique Product_IDs, with 'P00265242' being the most frequently purchased product_ID\n",
    "3. The dataset contains two different gender categories.\n",
    "4. Out of 550,068 data points, 414,259 belong to the Male gender category, while the remaining are Female. The male count is higher than the female count.\n",
    "5. There are 7 unique age groups, and the majority of purchases are made by individuals in the 26-35 age group.\n",
    "6. There are 3 unique City Categories, with Category B having the highest occurrence.\n",
    "7. There are 5 unique values for the \"Stay_in_Current_City_Years\" variable, with 1 being the most common value.\n",
    "8. The minimum and maximum purchase amounts are 12 and 23,961, respectively, indicating a wide range of purchasing behaviors. The mean purchase amount is 9,264, and 75% of purchases are less than or equal to 12,054. This suggests that most purchases are below 12,000.\n",
    "9. Some categorical variables are represented as integers, but they can be converted to character type. This includes User ID, Occupation, Marital Status, and Product Category."
   ]
  },
  {
   "cell_type": "markdown",
   "id": "ea43725d",
   "metadata": {},
   "source": [
    "### 11. Converting datatypes"
   ]
  },
  {
   "cell_type": "code",
   "execution_count": 13,
   "id": "7060b511",
   "metadata": {},
   "outputs": [],
   "source": [
    "columns=['User_ID', 'Occupation', 'Marital_Status', 'Product_Category']\n",
    "df[columns]=df[columns].astype('object')"
   ]
  },
  {
   "cell_type": "code",
   "execution_count": 14,
   "id": "0b2d46da",
   "metadata": {},
   "outputs": [
    {
     "name": "stdout",
     "output_type": "stream",
     "text": [
      "<class 'pandas.core.frame.DataFrame'>\n",
      "RangeIndex: 550068 entries, 0 to 550067\n",
      "Data columns (total 10 columns):\n",
      " #   Column                      Non-Null Count   Dtype \n",
      "---  ------                      --------------   ----- \n",
      " 0   User_ID                     550068 non-null  object\n",
      " 1   Product_ID                  550068 non-null  object\n",
      " 2   Gender                      550068 non-null  object\n",
      " 3   Age                         550068 non-null  object\n",
      " 4   Occupation                  550068 non-null  object\n",
      " 5   City_Category               550068 non-null  object\n",
      " 6   Stay_In_Current_City_Years  550068 non-null  object\n",
      " 7   Marital_Status              550068 non-null  object\n",
      " 8   Product_Category            550068 non-null  object\n",
      " 9   Purchase                    550068 non-null  int64 \n",
      "dtypes: int64(1), object(9)\n",
      "memory usage: 42.0+ MB\n"
     ]
    }
   ],
   "source": [
    "df.info()"
   ]
  },
  {
   "cell_type": "markdown",
   "id": "13a218fc",
   "metadata": {},
   "source": [
    "### 12. Statistical Properties(after data type conversion)"
   ]
  },
  {
   "cell_type": "code",
   "execution_count": 15,
   "id": "a8f45331",
   "metadata": {},
   "outputs": [
    {
     "data": {
      "text/html": [
       "<div>\n",
       "<style scoped>\n",
       "    .dataframe tbody tr th:only-of-type {\n",
       "        vertical-align: middle;\n",
       "    }\n",
       "\n",
       "    .dataframe tbody tr th {\n",
       "        vertical-align: top;\n",
       "    }\n",
       "\n",
       "    .dataframe thead th {\n",
       "        text-align: right;\n",
       "    }\n",
       "</style>\n",
       "<table border=\"1\" class=\"dataframe\">\n",
       "  <thead>\n",
       "    <tr style=\"text-align: right;\">\n",
       "      <th></th>\n",
       "      <th>User_ID</th>\n",
       "      <th>Product_ID</th>\n",
       "      <th>Gender</th>\n",
       "      <th>Age</th>\n",
       "      <th>Occupation</th>\n",
       "      <th>City_Category</th>\n",
       "      <th>Stay_In_Current_City_Years</th>\n",
       "      <th>Marital_Status</th>\n",
       "      <th>Product_Category</th>\n",
       "      <th>Purchase</th>\n",
       "    </tr>\n",
       "  </thead>\n",
       "  <tbody>\n",
       "    <tr>\n",
       "      <th>count</th>\n",
       "      <td>550068.0</td>\n",
       "      <td>550068</td>\n",
       "      <td>550068</td>\n",
       "      <td>550068</td>\n",
       "      <td>550068.0</td>\n",
       "      <td>550068</td>\n",
       "      <td>550068</td>\n",
       "      <td>550068.0</td>\n",
       "      <td>550068.0</td>\n",
       "      <td>550068.000000</td>\n",
       "    </tr>\n",
       "    <tr>\n",
       "      <th>unique</th>\n",
       "      <td>5891.0</td>\n",
       "      <td>3631</td>\n",
       "      <td>2</td>\n",
       "      <td>7</td>\n",
       "      <td>21.0</td>\n",
       "      <td>3</td>\n",
       "      <td>5</td>\n",
       "      <td>2.0</td>\n",
       "      <td>20.0</td>\n",
       "      <td>NaN</td>\n",
       "    </tr>\n",
       "    <tr>\n",
       "      <th>top</th>\n",
       "      <td>1001680.0</td>\n",
       "      <td>P00265242</td>\n",
       "      <td>M</td>\n",
       "      <td>26-35</td>\n",
       "      <td>4.0</td>\n",
       "      <td>B</td>\n",
       "      <td>1</td>\n",
       "      <td>0.0</td>\n",
       "      <td>5.0</td>\n",
       "      <td>NaN</td>\n",
       "    </tr>\n",
       "    <tr>\n",
       "      <th>freq</th>\n",
       "      <td>1026.0</td>\n",
       "      <td>1880</td>\n",
       "      <td>414259</td>\n",
       "      <td>219587</td>\n",
       "      <td>72308.0</td>\n",
       "      <td>231173</td>\n",
       "      <td>193821</td>\n",
       "      <td>324731.0</td>\n",
       "      <td>150933.0</td>\n",
       "      <td>NaN</td>\n",
       "    </tr>\n",
       "    <tr>\n",
       "      <th>mean</th>\n",
       "      <td>NaN</td>\n",
       "      <td>NaN</td>\n",
       "      <td>NaN</td>\n",
       "      <td>NaN</td>\n",
       "      <td>NaN</td>\n",
       "      <td>NaN</td>\n",
       "      <td>NaN</td>\n",
       "      <td>NaN</td>\n",
       "      <td>NaN</td>\n",
       "      <td>9263.968713</td>\n",
       "    </tr>\n",
       "    <tr>\n",
       "      <th>std</th>\n",
       "      <td>NaN</td>\n",
       "      <td>NaN</td>\n",
       "      <td>NaN</td>\n",
       "      <td>NaN</td>\n",
       "      <td>NaN</td>\n",
       "      <td>NaN</td>\n",
       "      <td>NaN</td>\n",
       "      <td>NaN</td>\n",
       "      <td>NaN</td>\n",
       "      <td>5023.065394</td>\n",
       "    </tr>\n",
       "    <tr>\n",
       "      <th>min</th>\n",
       "      <td>NaN</td>\n",
       "      <td>NaN</td>\n",
       "      <td>NaN</td>\n",
       "      <td>NaN</td>\n",
       "      <td>NaN</td>\n",
       "      <td>NaN</td>\n",
       "      <td>NaN</td>\n",
       "      <td>NaN</td>\n",
       "      <td>NaN</td>\n",
       "      <td>12.000000</td>\n",
       "    </tr>\n",
       "    <tr>\n",
       "      <th>25%</th>\n",
       "      <td>NaN</td>\n",
       "      <td>NaN</td>\n",
       "      <td>NaN</td>\n",
       "      <td>NaN</td>\n",
       "      <td>NaN</td>\n",
       "      <td>NaN</td>\n",
       "      <td>NaN</td>\n",
       "      <td>NaN</td>\n",
       "      <td>NaN</td>\n",
       "      <td>5823.000000</td>\n",
       "    </tr>\n",
       "    <tr>\n",
       "      <th>50%</th>\n",
       "      <td>NaN</td>\n",
       "      <td>NaN</td>\n",
       "      <td>NaN</td>\n",
       "      <td>NaN</td>\n",
       "      <td>NaN</td>\n",
       "      <td>NaN</td>\n",
       "      <td>NaN</td>\n",
       "      <td>NaN</td>\n",
       "      <td>NaN</td>\n",
       "      <td>8047.000000</td>\n",
       "    </tr>\n",
       "    <tr>\n",
       "      <th>75%</th>\n",
       "      <td>NaN</td>\n",
       "      <td>NaN</td>\n",
       "      <td>NaN</td>\n",
       "      <td>NaN</td>\n",
       "      <td>NaN</td>\n",
       "      <td>NaN</td>\n",
       "      <td>NaN</td>\n",
       "      <td>NaN</td>\n",
       "      <td>NaN</td>\n",
       "      <td>12054.000000</td>\n",
       "    </tr>\n",
       "    <tr>\n",
       "      <th>max</th>\n",
       "      <td>NaN</td>\n",
       "      <td>NaN</td>\n",
       "      <td>NaN</td>\n",
       "      <td>NaN</td>\n",
       "      <td>NaN</td>\n",
       "      <td>NaN</td>\n",
       "      <td>NaN</td>\n",
       "      <td>NaN</td>\n",
       "      <td>NaN</td>\n",
       "      <td>23961.000000</td>\n",
       "    </tr>\n",
       "  </tbody>\n",
       "</table>\n",
       "</div>"
      ],
      "text/plain": [
       "          User_ID Product_ID  Gender     Age  Occupation City_Category  \\\n",
       "count    550068.0     550068  550068  550068    550068.0        550068   \n",
       "unique     5891.0       3631       2       7        21.0             3   \n",
       "top     1001680.0  P00265242       M   26-35         4.0             B   \n",
       "freq       1026.0       1880  414259  219587     72308.0        231173   \n",
       "mean          NaN        NaN     NaN     NaN         NaN           NaN   \n",
       "std           NaN        NaN     NaN     NaN         NaN           NaN   \n",
       "min           NaN        NaN     NaN     NaN         NaN           NaN   \n",
       "25%           NaN        NaN     NaN     NaN         NaN           NaN   \n",
       "50%           NaN        NaN     NaN     NaN         NaN           NaN   \n",
       "75%           NaN        NaN     NaN     NaN         NaN           NaN   \n",
       "max           NaN        NaN     NaN     NaN         NaN           NaN   \n",
       "\n",
       "       Stay_In_Current_City_Years  Marital_Status  Product_Category  \\\n",
       "count                      550068        550068.0          550068.0   \n",
       "unique                          5             2.0              20.0   \n",
       "top                             1             0.0               5.0   \n",
       "freq                       193821        324731.0          150933.0   \n",
       "mean                          NaN             NaN               NaN   \n",
       "std                           NaN             NaN               NaN   \n",
       "min                           NaN             NaN               NaN   \n",
       "25%                           NaN             NaN               NaN   \n",
       "50%                           NaN             NaN               NaN   \n",
       "75%                           NaN             NaN               NaN   \n",
       "max                           NaN             NaN               NaN   \n",
       "\n",
       "             Purchase  \n",
       "count   550068.000000  \n",
       "unique            NaN  \n",
       "top               NaN  \n",
       "freq              NaN  \n",
       "mean      9263.968713  \n",
       "std       5023.065394  \n",
       "min         12.000000  \n",
       "25%       5823.000000  \n",
       "50%       8047.000000  \n",
       "75%      12054.000000  \n",
       "max      23961.000000  "
      ]
     },
     "execution_count": 15,
     "metadata": {},
     "output_type": "execute_result"
    }
   ],
   "source": [
    "df.describe(include='all')"
   ]
  },
  {
   "cell_type": "markdown",
   "id": "166dcd54",
   "metadata": {},
   "source": [
    "### Insights:\n",
    "1. There are 5,891 unique users, and User ID 1001680 has the highest count.\n",
    "2. The customers belong to 21 different occupations for their purchases, with Occupation 4 being the most common.\n",
    "3. There are 20 unique product categories, and Product Category 5 is the most frequently occurring."
   ]
  },
  {
   "cell_type": "code",
   "execution_count": 16,
   "id": "b1294aa8",
   "metadata": {},
   "outputs": [
    {
     "name": "stdout",
     "output_type": "stream",
     "text": [
      "<class 'pandas.core.frame.DataFrame'>\n",
      "RangeIndex: 550068 entries, 0 to 550067\n",
      "Data columns (total 10 columns):\n",
      " #   Column                      Non-Null Count   Dtype \n",
      "---  ------                      --------------   ----- \n",
      " 0   User_ID                     550068 non-null  object\n",
      " 1   Product_ID                  550068 non-null  object\n",
      " 2   Gender                      550068 non-null  object\n",
      " 3   Age                         550068 non-null  object\n",
      " 4   Occupation                  550068 non-null  object\n",
      " 5   City_Category               550068 non-null  object\n",
      " 6   Stay_In_Current_City_Years  550068 non-null  object\n",
      " 7   Marital_Status              550068 non-null  object\n",
      " 8   Product_Category            550068 non-null  object\n",
      " 9   Purchase                    550068 non-null  int64 \n",
      "dtypes: int64(1), object(9)\n",
      "memory usage: 42.0+ MB\n"
     ]
    }
   ],
   "source": [
    "df.info()"
   ]
  },
  {
   "cell_type": "markdown",
   "id": "2ba30b7e",
   "metadata": {},
   "source": [
    "## B. Examining how the data is distributed across unique user profiles."
   ]
  },
  {
   "cell_type": "code",
   "execution_count": 17,
   "id": "abccd526",
   "metadata": {},
   "outputs": [
    {
     "data": {
      "text/plain": [
       "Age\n",
       "[26-35]    0.348\n",
       "[36-45]    0.198\n",
       "[18-25]    0.181\n",
       "[46-50]    0.090\n",
       "[51-55]    0.082\n",
       "[55+]      0.063\n",
       "[0-17]     0.037\n",
       "Name: count, dtype: float64"
      ]
     },
     "execution_count": 17,
     "metadata": {},
     "output_type": "execute_result"
    }
   ],
   "source": [
    "df2=df.groupby(['User_ID'])['Age'].unique()\n",
    "(df2.value_counts()/len(df2)).round(3)"
   ]
  },
  {
   "cell_type": "markdown",
   "id": "f2254fdd",
   "metadata": {},
   "source": [
    "#### Insight:\n",
    "1. 34.8% of the users are aged between 26-35years.\n",
    "2. 19.8% of the users are aged between 36-45 years.\n",
    "3. 18.1% of the users are aged between 18-25years.\n",
    "4. Cumulatively, 72.7% of the purchasing is done by the users aged between 18-45years."
   ]
  },
  {
   "cell_type": "code",
   "execution_count": 18,
   "id": "32203d0e",
   "metadata": {},
   "outputs": [
    {
     "data": {
      "text/plain": [
       "Gender\n",
       "[M]    0.717\n",
       "[F]    0.283\n",
       "Name: count, dtype: float64"
      ]
     },
     "execution_count": 18,
     "metadata": {},
     "output_type": "execute_result"
    }
   ],
   "source": [
    "df2=df.groupby(['User_ID'])['Gender'].unique()\n",
    "(df2.value_counts()/len(df2)).round(3)"
   ]
  },
  {
   "cell_type": "markdown",
   "id": "fcf0a4af",
   "metadata": {},
   "source": [
    "#### Insight:\n",
    "1. 71.7% are Male users and 28.3% are Female users."
   ]
  },
  {
   "cell_type": "code",
   "execution_count": 19,
   "id": "a515765f",
   "metadata": {},
   "outputs": [
    {
     "data": {
      "text/plain": [
       "Marital_Status\n",
       "[0]    0.58\n",
       "[1]    0.42\n",
       "Name: count, dtype: float64"
      ]
     },
     "execution_count": 19,
     "metadata": {},
     "output_type": "execute_result"
    }
   ],
   "source": [
    "df2=df.groupby(['User_ID'])['Marital_Status'].unique()\n",
    "(df2.value_counts()/len(df2)).round(3)"
   ]
  },
  {
   "cell_type": "markdown",
   "id": "545b7556",
   "metadata": {},
   "source": [
    "#### Insight:\n",
    "1. 58% users are single and 42% are married users. "
   ]
  },
  {
   "cell_type": "code",
   "execution_count": 20,
   "id": "665021a9",
   "metadata": {},
   "outputs": [
    {
     "data": {
      "text/plain": [
       "City_Category\n",
       "[C]    0.533\n",
       "[B]    0.290\n",
       "[A]    0.177\n",
       "Name: count, dtype: float64"
      ]
     },
     "execution_count": 20,
     "metadata": {},
     "output_type": "execute_result"
    }
   ],
   "source": [
    "df2=df.groupby(['User_ID'])['City_Category'].unique()\n",
    "(df2.value_counts()/len(df2)).round(3)"
   ]
  },
  {
   "cell_type": "markdown",
   "id": "895ec109",
   "metadata": {},
   "source": [
    "#### Insight:\n",
    "1. 53.3% of the users belong to city category C whereas 29% to category B and 17.7% belong to category A."
   ]
  },
  {
   "cell_type": "markdown",
   "id": "ba54fbfa",
   "metadata": {},
   "source": [
    "## C. Analysing variables contributing to purchase "
   ]
  },
  {
   "cell_type": "markdown",
   "id": "304301e7",
   "metadata": {},
   "source": [
    "#### 1. Checking how genders are contributing towards total purchase amount"
   ]
  },
  {
   "cell_type": "code",
   "execution_count": 21,
   "id": "08c27935",
   "metadata": {},
   "outputs": [
    {
     "data": {
      "text/html": [
       "<div>\n",
       "<style scoped>\n",
       "    .dataframe tbody tr th:only-of-type {\n",
       "        vertical-align: middle;\n",
       "    }\n",
       "\n",
       "    .dataframe tbody tr th {\n",
       "        vertical-align: top;\n",
       "    }\n",
       "\n",
       "    .dataframe thead th {\n",
       "        text-align: right;\n",
       "    }\n",
       "</style>\n",
       "<table border=\"1\" class=\"dataframe\">\n",
       "  <thead>\n",
       "    <tr style=\"text-align: right;\">\n",
       "      <th></th>\n",
       "      <th>Purchase</th>\n",
       "      <th>percent</th>\n",
       "    </tr>\n",
       "    <tr>\n",
       "      <th>Gender</th>\n",
       "      <th></th>\n",
       "      <th></th>\n",
       "    </tr>\n",
       "  </thead>\n",
       "  <tbody>\n",
       "    <tr>\n",
       "      <th>F</th>\n",
       "      <td>1186232642</td>\n",
       "      <td>23.278576</td>\n",
       "    </tr>\n",
       "    <tr>\n",
       "      <th>M</th>\n",
       "      <td>3909580100</td>\n",
       "      <td>76.721424</td>\n",
       "    </tr>\n",
       "  </tbody>\n",
       "</table>\n",
       "</div>"
      ],
      "text/plain": [
       "          Purchase    percent\n",
       "Gender                       \n",
       "F       1186232642  23.278576\n",
       "M       3909580100  76.721424"
      ]
     },
     "execution_count": 21,
     "metadata": {},
     "output_type": "execute_result"
    }
   ],
   "source": [
    "df2=pd.DataFrame(df.groupby(['Gender'])[['Purchase']].sum())\n",
    "df2['percent'] = (df2['Purchase'] / df2['Purchase'].sum()) * 100\n",
    "df2"
   ]
  },
  {
   "cell_type": "markdown",
   "id": "7cdaf83f",
   "metadata": {},
   "source": [
    "Male users contributes to more than 76.72 % of the total purchase amount whereas Female users contributes 23.28% of the total purchase amount."
   ]
  },
  {
   "cell_type": "markdown",
   "id": "68ac60e5",
   "metadata": {},
   "source": [
    "#### 2. Checking how purchase value are spread among differnt age categories"
   ]
  },
  {
   "cell_type": "code",
   "execution_count": 22,
   "id": "ca95f17e",
   "metadata": {},
   "outputs": [
    {
     "data": {
      "text/html": [
       "<div>\n",
       "<style scoped>\n",
       "    .dataframe tbody tr th:only-of-type {\n",
       "        vertical-align: middle;\n",
       "    }\n",
       "\n",
       "    .dataframe tbody tr th {\n",
       "        vertical-align: top;\n",
       "    }\n",
       "\n",
       "    .dataframe thead th {\n",
       "        text-align: right;\n",
       "    }\n",
       "</style>\n",
       "<table border=\"1\" class=\"dataframe\">\n",
       "  <thead>\n",
       "    <tr style=\"text-align: right;\">\n",
       "      <th></th>\n",
       "      <th>Purchase</th>\n",
       "      <th>percent</th>\n",
       "    </tr>\n",
       "    <tr>\n",
       "      <th>Age</th>\n",
       "      <th></th>\n",
       "      <th></th>\n",
       "    </tr>\n",
       "  </thead>\n",
       "  <tbody>\n",
       "    <tr>\n",
       "      <th>0-17</th>\n",
       "      <td>134913183</td>\n",
       "      <td>2.647530</td>\n",
       "    </tr>\n",
       "    <tr>\n",
       "      <th>18-25</th>\n",
       "      <td>913848675</td>\n",
       "      <td>17.933325</td>\n",
       "    </tr>\n",
       "    <tr>\n",
       "      <th>26-35</th>\n",
       "      <td>2031770578</td>\n",
       "      <td>39.871374</td>\n",
       "    </tr>\n",
       "    <tr>\n",
       "      <th>36-45</th>\n",
       "      <td>1026569884</td>\n",
       "      <td>20.145361</td>\n",
       "    </tr>\n",
       "    <tr>\n",
       "      <th>46-50</th>\n",
       "      <td>420843403</td>\n",
       "      <td>8.258612</td>\n",
       "    </tr>\n",
       "    <tr>\n",
       "      <th>51-55</th>\n",
       "      <td>367099644</td>\n",
       "      <td>7.203947</td>\n",
       "    </tr>\n",
       "    <tr>\n",
       "      <th>55+</th>\n",
       "      <td>200767375</td>\n",
       "      <td>3.939850</td>\n",
       "    </tr>\n",
       "  </tbody>\n",
       "</table>\n",
       "</div>"
      ],
      "text/plain": [
       "         Purchase    percent\n",
       "Age                         \n",
       "0-17    134913183   2.647530\n",
       "18-25   913848675  17.933325\n",
       "26-35  2031770578  39.871374\n",
       "36-45  1026569884  20.145361\n",
       "46-50   420843403   8.258612\n",
       "51-55   367099644   7.203947\n",
       "55+     200767375   3.939850"
      ]
     },
     "execution_count": 22,
     "metadata": {},
     "output_type": "execute_result"
    }
   ],
   "source": [
    "df2=pd.DataFrame(df.groupby(['Age'])[['Purchase']].sum())\n",
    "df2['percent'] = (df2['Purchase'] / df2['Purchase'].sum()) * 100\n",
    "df2"
   ]
  },
  {
   "cell_type": "markdown",
   "id": "7a080178",
   "metadata": {},
   "source": [
    "Users aged between 26-35 years old contributes maximum to purchase value."
   ]
  },
  {
   "cell_type": "markdown",
   "id": "d3d7c4cd",
   "metadata": {},
   "source": [
    "#### 3. Checking how marital_status are contributing towards purchase amount"
   ]
  },
  {
   "cell_type": "code",
   "execution_count": 23,
   "id": "b4a38684",
   "metadata": {},
   "outputs": [
    {
     "data": {
      "text/html": [
       "<div>\n",
       "<style scoped>\n",
       "    .dataframe tbody tr th:only-of-type {\n",
       "        vertical-align: middle;\n",
       "    }\n",
       "\n",
       "    .dataframe tbody tr th {\n",
       "        vertical-align: top;\n",
       "    }\n",
       "\n",
       "    .dataframe thead th {\n",
       "        text-align: right;\n",
       "    }\n",
       "</style>\n",
       "<table border=\"1\" class=\"dataframe\">\n",
       "  <thead>\n",
       "    <tr style=\"text-align: right;\">\n",
       "      <th></th>\n",
       "      <th>Purchase</th>\n",
       "      <th>percent</th>\n",
       "    </tr>\n",
       "    <tr>\n",
       "      <th>Marital_Status</th>\n",
       "      <th></th>\n",
       "      <th></th>\n",
       "    </tr>\n",
       "  </thead>\n",
       "  <tbody>\n",
       "    <tr>\n",
       "      <th>0</th>\n",
       "      <td>3008927447</td>\n",
       "      <td>59.047057</td>\n",
       "    </tr>\n",
       "    <tr>\n",
       "      <th>1</th>\n",
       "      <td>2086885295</td>\n",
       "      <td>40.952943</td>\n",
       "    </tr>\n",
       "  </tbody>\n",
       "</table>\n",
       "</div>"
      ],
      "text/plain": [
       "                  Purchase    percent\n",
       "Marital_Status                       \n",
       "0               3008927447  59.047057\n",
       "1               2086885295  40.952943"
      ]
     },
     "execution_count": 23,
     "metadata": {},
     "output_type": "execute_result"
    }
   ],
   "source": [
    "df2=pd.DataFrame(df.groupby(['Marital_Status'])['Purchase'].sum())\n",
    "df2['percent'] = (df2['Purchase'] / df2['Purchase'].sum()) * 100\n",
    "df2 "
   ]
  },
  {
   "cell_type": "markdown",
   "id": "258f8289",
   "metadata": {},
   "source": [
    "Single users are contributing 59% towards the total purchase amount in comparison to 41% by married users."
   ]
  },
  {
   "cell_type": "markdown",
   "id": "91f3df7b",
   "metadata": {},
   "source": [
    "#### 4. Checking how City_Category are contributing towards purchase amount"
   ]
  },
  {
   "cell_type": "code",
   "execution_count": 24,
   "id": "1ffe1c4d",
   "metadata": {},
   "outputs": [
    {
     "data": {
      "text/html": [
       "<div>\n",
       "<style scoped>\n",
       "    .dataframe tbody tr th:only-of-type {\n",
       "        vertical-align: middle;\n",
       "    }\n",
       "\n",
       "    .dataframe tbody tr th {\n",
       "        vertical-align: top;\n",
       "    }\n",
       "\n",
       "    .dataframe thead th {\n",
       "        text-align: right;\n",
       "    }\n",
       "</style>\n",
       "<table border=\"1\" class=\"dataframe\">\n",
       "  <thead>\n",
       "    <tr style=\"text-align: right;\">\n",
       "      <th></th>\n",
       "      <th>Purchase</th>\n",
       "      <th>percent</th>\n",
       "    </tr>\n",
       "    <tr>\n",
       "      <th>City_Category</th>\n",
       "      <th></th>\n",
       "      <th></th>\n",
       "    </tr>\n",
       "  </thead>\n",
       "  <tbody>\n",
       "    <tr>\n",
       "      <th>A</th>\n",
       "      <td>1316471661</td>\n",
       "      <td>25.834381</td>\n",
       "    </tr>\n",
       "    <tr>\n",
       "      <th>B</th>\n",
       "      <td>2115533605</td>\n",
       "      <td>41.515136</td>\n",
       "    </tr>\n",
       "    <tr>\n",
       "      <th>C</th>\n",
       "      <td>1663807476</td>\n",
       "      <td>32.650483</td>\n",
       "    </tr>\n",
       "  </tbody>\n",
       "</table>\n",
       "</div>"
      ],
      "text/plain": [
       "                 Purchase    percent\n",
       "City_Category                       \n",
       "A              1316471661  25.834381\n",
       "B              2115533605  41.515136\n",
       "C              1663807476  32.650483"
      ]
     },
     "execution_count": 24,
     "metadata": {},
     "output_type": "execute_result"
    }
   ],
   "source": [
    "df2=pd.DataFrame(df.groupby(['City_Category'])['Purchase'].sum())\n",
    "df2['percent'] = (df2['Purchase'] / df2['Purchase'].sum()) * 100\n",
    "df2 "
   ]
  },
  {
   "cell_type": "markdown",
   "id": "9b3b1fe3",
   "metadata": {},
   "source": [
    "#### 5. Checking how Occupations are contributing towards purchase amount"
   ]
  },
  {
   "cell_type": "code",
   "execution_count": 25,
   "id": "7e8f7242",
   "metadata": {},
   "outputs": [
    {
     "data": {
      "text/html": [
       "<div>\n",
       "<style scoped>\n",
       "    .dataframe tbody tr th:only-of-type {\n",
       "        vertical-align: middle;\n",
       "    }\n",
       "\n",
       "    .dataframe tbody tr th {\n",
       "        vertical-align: top;\n",
       "    }\n",
       "\n",
       "    .dataframe thead th {\n",
       "        text-align: right;\n",
       "    }\n",
       "</style>\n",
       "<table border=\"1\" class=\"dataframe\">\n",
       "  <thead>\n",
       "    <tr style=\"text-align: right;\">\n",
       "      <th></th>\n",
       "      <th>Purchase</th>\n",
       "      <th>percent</th>\n",
       "    </tr>\n",
       "    <tr>\n",
       "      <th>Occupation</th>\n",
       "      <th></th>\n",
       "      <th></th>\n",
       "    </tr>\n",
       "  </thead>\n",
       "  <tbody>\n",
       "    <tr>\n",
       "      <th>0</th>\n",
       "      <td>635406958</td>\n",
       "      <td>12.469198</td>\n",
       "    </tr>\n",
       "    <tr>\n",
       "      <th>1</th>\n",
       "      <td>424614144</td>\n",
       "      <td>8.332609</td>\n",
       "    </tr>\n",
       "    <tr>\n",
       "      <th>2</th>\n",
       "      <td>238028583</td>\n",
       "      <td>4.671062</td>\n",
       "    </tr>\n",
       "    <tr>\n",
       "      <th>3</th>\n",
       "      <td>162002168</td>\n",
       "      <td>3.179123</td>\n",
       "    </tr>\n",
       "    <tr>\n",
       "      <th>4</th>\n",
       "      <td>666244484</td>\n",
       "      <td>13.074352</td>\n",
       "    </tr>\n",
       "    <tr>\n",
       "      <th>5</th>\n",
       "      <td>113649759</td>\n",
       "      <td>2.230258</td>\n",
       "    </tr>\n",
       "    <tr>\n",
       "      <th>6</th>\n",
       "      <td>188416784</td>\n",
       "      <td>3.697482</td>\n",
       "    </tr>\n",
       "    <tr>\n",
       "      <th>7</th>\n",
       "      <td>557371587</td>\n",
       "      <td>10.937835</td>\n",
       "    </tr>\n",
       "    <tr>\n",
       "      <th>8</th>\n",
       "      <td>14737388</td>\n",
       "      <td>0.289206</td>\n",
       "    </tr>\n",
       "    <tr>\n",
       "      <th>9</th>\n",
       "      <td>54340046</td>\n",
       "      <td>1.066367</td>\n",
       "    </tr>\n",
       "    <tr>\n",
       "      <th>10</th>\n",
       "      <td>115844465</td>\n",
       "      <td>2.273327</td>\n",
       "    </tr>\n",
       "    <tr>\n",
       "      <th>11</th>\n",
       "      <td>106751618</td>\n",
       "      <td>2.094889</td>\n",
       "    </tr>\n",
       "    <tr>\n",
       "      <th>12</th>\n",
       "      <td>305449446</td>\n",
       "      <td>5.994126</td>\n",
       "    </tr>\n",
       "    <tr>\n",
       "      <th>13</th>\n",
       "      <td>71919481</td>\n",
       "      <td>1.411345</td>\n",
       "    </tr>\n",
       "    <tr>\n",
       "      <th>14</th>\n",
       "      <td>259454692</td>\n",
       "      <td>5.091527</td>\n",
       "    </tr>\n",
       "    <tr>\n",
       "      <th>15</th>\n",
       "      <td>118960211</td>\n",
       "      <td>2.334470</td>\n",
       "    </tr>\n",
       "    <tr>\n",
       "      <th>16</th>\n",
       "      <td>238346955</td>\n",
       "      <td>4.677310</td>\n",
       "    </tr>\n",
       "    <tr>\n",
       "      <th>17</th>\n",
       "      <td>393281453</td>\n",
       "      <td>7.717738</td>\n",
       "    </tr>\n",
       "    <tr>\n",
       "      <th>18</th>\n",
       "      <td>60721461</td>\n",
       "      <td>1.191595</td>\n",
       "    </tr>\n",
       "    <tr>\n",
       "      <th>19</th>\n",
       "      <td>73700617</td>\n",
       "      <td>1.446298</td>\n",
       "    </tr>\n",
       "    <tr>\n",
       "      <th>20</th>\n",
       "      <td>296570442</td>\n",
       "      <td>5.819885</td>\n",
       "    </tr>\n",
       "  </tbody>\n",
       "</table>\n",
       "</div>"
      ],
      "text/plain": [
       "             Purchase    percent\n",
       "Occupation                      \n",
       "0           635406958  12.469198\n",
       "1           424614144   8.332609\n",
       "2           238028583   4.671062\n",
       "3           162002168   3.179123\n",
       "4           666244484  13.074352\n",
       "5           113649759   2.230258\n",
       "6           188416784   3.697482\n",
       "7           557371587  10.937835\n",
       "8            14737388   0.289206\n",
       "9            54340046   1.066367\n",
       "10          115844465   2.273327\n",
       "11          106751618   2.094889\n",
       "12          305449446   5.994126\n",
       "13           71919481   1.411345\n",
       "14          259454692   5.091527\n",
       "15          118960211   2.334470\n",
       "16          238346955   4.677310\n",
       "17          393281453   7.717738\n",
       "18           60721461   1.191595\n",
       "19           73700617   1.446298\n",
       "20          296570442   5.819885"
      ]
     },
     "execution_count": 25,
     "metadata": {},
     "output_type": "execute_result"
    }
   ],
   "source": [
    "df2=pd.DataFrame(df.groupby(['Occupation'])[['Purchase']].sum())\n",
    "df2['percent'] = (df2['Purchase'] / df2['Purchase'].sum()) * 100\n",
    "df2"
   ]
  },
  {
   "cell_type": "markdown",
   "id": "6ac61cb4",
   "metadata": {},
   "source": [
    " Occupation like 0, 4, 7 has contributed more towards total purchase amount."
   ]
  },
  {
   "cell_type": "markdown",
   "id": "a3e34ac1",
   "metadata": {},
   "source": [
    "#### 6. Checking how Occupations are contributing towards purchase amount"
   ]
  },
  {
   "cell_type": "code",
   "execution_count": 26,
   "id": "2aac6655",
   "metadata": {},
   "outputs": [
    {
     "data": {
      "text/html": [
       "<div>\n",
       "<style scoped>\n",
       "    .dataframe tbody tr th:only-of-type {\n",
       "        vertical-align: middle;\n",
       "    }\n",
       "\n",
       "    .dataframe tbody tr th {\n",
       "        vertical-align: top;\n",
       "    }\n",
       "\n",
       "    .dataframe thead th {\n",
       "        text-align: right;\n",
       "    }\n",
       "</style>\n",
       "<table border=\"1\" class=\"dataframe\">\n",
       "  <thead>\n",
       "    <tr style=\"text-align: right;\">\n",
       "      <th></th>\n",
       "      <th>Purchase</th>\n",
       "      <th>percent</th>\n",
       "    </tr>\n",
       "    <tr>\n",
       "      <th>Product_Category</th>\n",
       "      <th></th>\n",
       "      <th></th>\n",
       "    </tr>\n",
       "  </thead>\n",
       "  <tbody>\n",
       "    <tr>\n",
       "      <th>1</th>\n",
       "      <td>1910013754</td>\n",
       "      <td>37.482024</td>\n",
       "    </tr>\n",
       "    <tr>\n",
       "      <th>2</th>\n",
       "      <td>268516186</td>\n",
       "      <td>5.269350</td>\n",
       "    </tr>\n",
       "    <tr>\n",
       "      <th>3</th>\n",
       "      <td>204084713</td>\n",
       "      <td>4.004949</td>\n",
       "    </tr>\n",
       "    <tr>\n",
       "      <th>4</th>\n",
       "      <td>27380488</td>\n",
       "      <td>0.537313</td>\n",
       "    </tr>\n",
       "    <tr>\n",
       "      <th>5</th>\n",
       "      <td>941835229</td>\n",
       "      <td>18.482532</td>\n",
       "    </tr>\n",
       "    <tr>\n",
       "      <th>6</th>\n",
       "      <td>324150302</td>\n",
       "      <td>6.361111</td>\n",
       "    </tr>\n",
       "    <tr>\n",
       "      <th>7</th>\n",
       "      <td>60896731</td>\n",
       "      <td>1.195035</td>\n",
       "    </tr>\n",
       "    <tr>\n",
       "      <th>8</th>\n",
       "      <td>854318799</td>\n",
       "      <td>16.765114</td>\n",
       "    </tr>\n",
       "    <tr>\n",
       "      <th>9</th>\n",
       "      <td>6370324</td>\n",
       "      <td>0.125011</td>\n",
       "    </tr>\n",
       "    <tr>\n",
       "      <th>10</th>\n",
       "      <td>100837301</td>\n",
       "      <td>1.978827</td>\n",
       "    </tr>\n",
       "    <tr>\n",
       "      <th>11</th>\n",
       "      <td>113791115</td>\n",
       "      <td>2.233032</td>\n",
       "    </tr>\n",
       "    <tr>\n",
       "      <th>12</th>\n",
       "      <td>5331844</td>\n",
       "      <td>0.104632</td>\n",
       "    </tr>\n",
       "    <tr>\n",
       "      <th>13</th>\n",
       "      <td>4008601</td>\n",
       "      <td>0.078665</td>\n",
       "    </tr>\n",
       "    <tr>\n",
       "      <th>14</th>\n",
       "      <td>20014696</td>\n",
       "      <td>0.392767</td>\n",
       "    </tr>\n",
       "    <tr>\n",
       "      <th>15</th>\n",
       "      <td>92969042</td>\n",
       "      <td>1.824420</td>\n",
       "    </tr>\n",
       "    <tr>\n",
       "      <th>16</th>\n",
       "      <td>145120612</td>\n",
       "      <td>2.847840</td>\n",
       "    </tr>\n",
       "    <tr>\n",
       "      <th>17</th>\n",
       "      <td>5878699</td>\n",
       "      <td>0.115363</td>\n",
       "    </tr>\n",
       "    <tr>\n",
       "      <th>18</th>\n",
       "      <td>9290201</td>\n",
       "      <td>0.182310</td>\n",
       "    </tr>\n",
       "    <tr>\n",
       "      <th>19</th>\n",
       "      <td>59378</td>\n",
       "      <td>0.001165</td>\n",
       "    </tr>\n",
       "    <tr>\n",
       "      <th>20</th>\n",
       "      <td>944727</td>\n",
       "      <td>0.018539</td>\n",
       "    </tr>\n",
       "  </tbody>\n",
       "</table>\n",
       "</div>"
      ],
      "text/plain": [
       "                    Purchase    percent\n",
       "Product_Category                       \n",
       "1                 1910013754  37.482024\n",
       "2                  268516186   5.269350\n",
       "3                  204084713   4.004949\n",
       "4                   27380488   0.537313\n",
       "5                  941835229  18.482532\n",
       "6                  324150302   6.361111\n",
       "7                   60896731   1.195035\n",
       "8                  854318799  16.765114\n",
       "9                    6370324   0.125011\n",
       "10                 100837301   1.978827\n",
       "11                 113791115   2.233032\n",
       "12                   5331844   0.104632\n",
       "13                   4008601   0.078665\n",
       "14                  20014696   0.392767\n",
       "15                  92969042   1.824420\n",
       "16                 145120612   2.847840\n",
       "17                   5878699   0.115363\n",
       "18                   9290201   0.182310\n",
       "19                     59378   0.001165\n",
       "20                    944727   0.018539"
      ]
     },
     "execution_count": 26,
     "metadata": {},
     "output_type": "execute_result"
    }
   ],
   "source": [
    "df2=pd.DataFrame(df.groupby(['Product_Category'])[['Purchase']].sum())\n",
    "df2['percent'] = (df2['Purchase'] / df2['Purchase'].sum()) * 100\n",
    "df2"
   ]
  },
  {
   "cell_type": "markdown",
   "id": "5c0ed0c0",
   "metadata": {},
   "source": [
    "1, 8, 5 are among the highest yielding product categories and 19, 20, 13 are among the lowest in terms of their contribution to total amount."
   ]
  },
  {
   "cell_type": "markdown",
   "id": "0b3f0f85",
   "metadata": {},
   "source": [
    "#### 7. Checking how Stay_in_Current_city are contributing towards purchase amount"
   ]
  },
  {
   "cell_type": "code",
   "execution_count": 27,
   "id": "3d3b929f",
   "metadata": {},
   "outputs": [
    {
     "data": {
      "text/html": [
       "<div>\n",
       "<style scoped>\n",
       "    .dataframe tbody tr th:only-of-type {\n",
       "        vertical-align: middle;\n",
       "    }\n",
       "\n",
       "    .dataframe tbody tr th {\n",
       "        vertical-align: top;\n",
       "    }\n",
       "\n",
       "    .dataframe thead th {\n",
       "        text-align: right;\n",
       "    }\n",
       "</style>\n",
       "<table border=\"1\" class=\"dataframe\">\n",
       "  <thead>\n",
       "    <tr style=\"text-align: right;\">\n",
       "      <th></th>\n",
       "      <th>Purchase</th>\n",
       "      <th>percent</th>\n",
       "    </tr>\n",
       "    <tr>\n",
       "      <th>Stay_In_Current_City_Years</th>\n",
       "      <th></th>\n",
       "      <th></th>\n",
       "    </tr>\n",
       "  </thead>\n",
       "  <tbody>\n",
       "    <tr>\n",
       "      <th>0</th>\n",
       "      <td>682979229</td>\n",
       "      <td>13.402754</td>\n",
       "    </tr>\n",
       "    <tr>\n",
       "      <th>1</th>\n",
       "      <td>1792872533</td>\n",
       "      <td>35.183250</td>\n",
       "    </tr>\n",
       "    <tr>\n",
       "      <th>2</th>\n",
       "      <td>949173931</td>\n",
       "      <td>18.626547</td>\n",
       "    </tr>\n",
       "    <tr>\n",
       "      <th>3</th>\n",
       "      <td>884902659</td>\n",
       "      <td>17.365290</td>\n",
       "    </tr>\n",
       "    <tr>\n",
       "      <th>4+</th>\n",
       "      <td>785884390</td>\n",
       "      <td>15.422160</td>\n",
       "    </tr>\n",
       "  </tbody>\n",
       "</table>\n",
       "</div>"
      ],
      "text/plain": [
       "                              Purchase    percent\n",
       "Stay_In_Current_City_Years                       \n",
       "0                            682979229  13.402754\n",
       "1                           1792872533  35.183250\n",
       "2                            949173931  18.626547\n",
       "3                            884902659  17.365290\n",
       "4+                           785884390  15.422160"
      ]
     },
     "execution_count": 27,
     "metadata": {},
     "output_type": "execute_result"
    }
   ],
   "source": [
    "df2=pd.DataFrame(df.groupby(['Stay_In_Current_City_Years'])[['Purchase']].sum())\n",
    "df2['percent'] = (df2['Purchase'] / df2['Purchase'].sum()) * 100\n",
    "df2"
   ]
  },
  {
   "cell_type": "markdown",
   "id": "f6d70ffb",
   "metadata": {},
   "source": [
    "## D. Univariate analysis "
   ]
  },
  {
   "cell_type": "code",
   "execution_count": 28,
   "id": "a2fe5f59",
   "metadata": {},
   "outputs": [
    {
     "data": {
      "text/plain": [
       "<Axes: xlabel='Marital_Status', ylabel='count'>"
      ]
     },
     "execution_count": 28,
     "metadata": {},
     "output_type": "execute_result"
    },
    {
     "data": {
      "image/png": "[encoded data removed]",
      "text/plain": [
       "<Figure size 1500x1500 with 6 Axes>"
      ]
     },
     "metadata": {},
     "output_type": "display_data"
    }
   ],
   "source": [
    "fig,axes=plt.subplots(nrows=3, ncols=2, figsize=(15,15))\n",
    "sns.countplot(data=df, x='Gender', ax=axes[0,0])\n",
    "sns.countplot(data=df, x='Age', ax=axes[0,1])\n",
    "sns.countplot(data=df, x='Occupation', ax=axes[1,0])\n",
    "sns.countplot(data=df, x='City_Category', ax=axes[1,1])\n",
    "sns.countplot(data=df, x='Stay_In_Current_City_Years', ax=axes[2,0])\n",
    "sns.countplot(data=df, x='Marital_Status', ax=axes[2,1])"
   ]
  },
  {
   "cell_type": "markdown",
   "id": "fd6e0d3d",
   "metadata": {},
   "source": [
    "### Insights:\n",
    "1. Men have made significantly more purchases than women.\n",
    "2. There are seven different age categories. The age group between 26 and 35 years has made the most purchases, while those under 17 years have made the fewest.\n",
    "3. We have 21 occupation categories. Occupation categories 4, 0, and 7 have the highest number of purchases, while category 8 has the lowest.\n",
    "4. The highest number of purchases comes from City category B.\n",
    "5. Customers who have been living in the current city for 1 year have made the most purchases.\n",
    "6. Single customers have made more purchases than married ones."
   ]
  },
  {
   "cell_type": "code",
   "execution_count": 29,
   "id": "092a14c9",
   "metadata": {},
   "outputs": [
    {
     "data": {
      "image/png": "[encoded data removed]",
      "text/plain": [
       "<Figure size 1000x400 with 1 Axes>"
      ]
     },
     "metadata": {},
     "output_type": "display_data"
    }
   ],
   "source": [
    "plt.figure(figsize=(10,4))\n",
    "sns.countplot(data=df, x='Product_Category')\n",
    "plt.show()"
   ]
  },
  {
   "cell_type": "markdown",
   "id": "e35cedba",
   "metadata": {},
   "source": [
    "### Insights:\n",
    "1. There are 20 product categories, and categories 1, 5, and 8 are the most commonly purchased."
   ]
  },
  {
   "cell_type": "code",
   "execution_count": 30,
   "id": "f73ab5b3",
   "metadata": {},
   "outputs": [
    {
     "data": {
      "image/png": "[encoded data removed]",
      "text/plain": [
       "<Figure size 600x400 with 1 Axes>"
      ]
     },
     "metadata": {},
     "output_type": "display_data"
    }
   ],
   "source": [
    "plt.figure(figsize=(6, 4))\n",
    "sns.boxplot(data=df, y='Purchase')\n",
    "plt.show()"
   ]
  },
  {
   "cell_type": "markdown",
   "id": "5a4848de",
   "metadata": {},
   "source": [
    "We can see there are few outliers in the data for purchase."
   ]
  },
  {
   "cell_type": "code",
   "execution_count": 31,
   "id": "210a35e7",
   "metadata": {},
   "outputs": [
    {
     "data": {
      "image/png": "[encoded data removed]",
      "text/plain": [
       "<Figure size 1200x400 with 1 Axes>"
      ]
     },
     "metadata": {},
     "output_type": "display_data"
    }
   ],
   "source": [
    "plt.figure(figsize=(12, 4))\n",
    "sns.histplot(data=df, x=\"Purchase\", kde=True)\n",
    "plt.show()"
   ]
  },
  {
   "cell_type": "markdown",
   "id": "060d6328",
   "metadata": {},
   "source": [
    "We observe that there is a higher frequency of purchase values falling in the range of 5,000 to 10,000. "
   ]
  },
  {
   "cell_type": "markdown",
   "id": "d3964316",
   "metadata": {},
   "source": [
    "## E. Bivariate analysis "
   ]
  },
  {
   "cell_type": "code",
   "execution_count": 32,
   "id": "71cab1b2",
   "metadata": {},
   "outputs": [
    {
     "data": {
      "image/png": "[encoded data removed]",
      "text/plain": [
       "<Figure size 1500x600 with 2 Axes>"
      ]
     },
     "metadata": {},
     "output_type": "display_data"
    }
   ],
   "source": [
    "fig, axes=plt.subplots(nrows=1, ncols=2, figsize=(15,6))\n",
    "sns.histplot(data=df[df['Gender']=='M']['Purchase'], ax=axes[0]).set_title('Males Spending')\n",
    "sns.histplot(data=df[df['Gender']=='F']['Purchase'], ax=axes[1]).set_title('Females Spending')\n",
    "plt.show()"
   ]
  },
  {
   "cell_type": "code",
   "execution_count": 33,
   "id": "50a54fa0",
   "metadata": {},
   "outputs": [
    {
     "data": {
      "image/png": "[encoded data removed]",
      "text/plain": [
       "<Figure size 1600x1600 with 6 Axes>"
      ]
     },
     "metadata": {},
     "output_type": "display_data"
    }
   ],
   "source": [
    "attr = ['Age', 'Occupation', 'City_Category', 'Stay_In_Current_City_Years', 'Marital_Status', 'Product_Category']\n",
    "\n",
    "fig, axes = plt.subplots(nrows=3, ncols=2, figsize=(16, 16))\n",
    "count = 0\n",
    "for row in range(3):\n",
    "    for col in range(2):\n",
    "        sns.boxplot(data=df, y='Purchase', x=attr[count], ax=axes[row, col],)\n",
    "        axes[row,col].set_title(f\"Purchase vs {attr[count]}\")\n",
    "        count += 1\n",
    "plt.show()"
   ]
  },
  {
   "cell_type": "markdown",
   "id": "d2b12efc",
   "metadata": {},
   "source": [
    "#### Insights:\n",
    "1. Across various age groups, we observe similar buying patterns. In all age categories, most purchases fall within the range of 5,000 to 12,000, but there are a few outliers as well.\n",
    "2. Similarly, when we look at different occupations, we notice similar purchasing behavior in terms of the amounts spent on purchases.\n",
    "3. The same spending trend between 5,000 to 12,000 is observed across different City_Category, Stay_In_Current_City_Years, and Marital_Status among users.\n",
    "4. However, there are variations among product categories. Product category 10 contains the most expensive products, and there are some outliers in certain product categories."
   ]
  },
  {
   "cell_type": "markdown",
   "id": "f779e893",
   "metadata": {},
   "source": [
    "## F. Multi-variate analysis:"
   ]
  },
  {
   "cell_type": "code",
   "execution_count": 34,
   "id": "eba8e55a",
   "metadata": {},
   "outputs": [
    {
     "data": {
      "image/png": "[encoded data removed]",
      "text/plain": [
       "<Figure size 2000x1200 with 4 Axes>"
      ]
     },
     "metadata": {},
     "output_type": "display_data"
    }
   ],
   "source": [
    "fig, axes = plt.subplots(nrows=2, ncols=2, figsize=(20, 12))\n",
    "sns.boxplot(data=df, y='Purchase', x='Gender', hue='Age', ax=axes[0,0])\n",
    "sns.boxplot(data=df, y='Purchase', x='Gender', hue='City_Category', ax=axes[0,1])\n",
    "sns.boxplot(data=df, y='Purchase', x='Gender', hue='Marital_Status', ax=axes[1,0])\n",
    "sns.boxplot(data=df, y='Purchase', x='Gender', hue='Stay_In_Current_City_Years', ax=axes[1,1])\n",
    "\n",
    "plt.show()"
   ]
  },
  {
   "cell_type": "markdown",
   "id": "dfd9b91d",
   "metadata": {},
   "source": [
    "#### Insights:\n",
    "1. The buying habits are quite alike for both men and women, even when considering different age groups.\n",
    "2. The purchasing behavior of men and women across various city categories is also quite similar. However, men from City Category B tend to buy more expensive products compared to women.\n",
    "3. Whether they are single or married, the spending patterns of men and women remain quite similar.\n",
    "4. When looking at the length of time staying in the current city, the purchase amounts are similar for both men and women. Although, men tend to buy slightly more high-value products."
   ]
  },
  {
   "cell_type": "markdown",
   "id": "058c1243",
   "metadata": {},
   "source": [
    "#### Correlation between categorical variables"
   ]
  },
  {
   "cell_type": "code",
   "execution_count": 35,
   "id": "e00ffc6e",
   "metadata": {},
   "outputs": [
    {
     "data": {
      "text/plain": [
       "<Axes: >"
      ]
     },
     "execution_count": 35,
     "metadata": {},
     "output_type": "execute_result"
    },
    {
     "data": {
      "image/png": "[encoded data removed]",
      "text/plain": [
       "<Figure size 600x300 with 2 Axes>"
      ]
     },
     "metadata": {},
     "output_type": "display_data"
    }
   ],
   "source": [
    "plt.figure(figsize=(6,3))\n",
    "df_2=df[['User_ID','Occupation','Marital_Status','Product_Category','Purchase']]\n",
    "correlation_matrix=df_2.corr()\n",
    "sns.heatmap(correlation_matrix, annot=True)"
   ]
  },
  {
   "cell_type": "markdown",
   "id": "b9d128d2",
   "metadata": {},
   "source": [
    "From the above correlation plot, we can conclude that correlation is not significant between any pair of variables."
   ]
  },
  {
   "cell_type": "markdown",
   "id": "755c0423",
   "metadata": {},
   "source": [
    "## G. CLT and Confidence Interval considering 'gender'"
   ]
  },
  {
   "cell_type": "code",
   "execution_count": 36,
   "id": "d915e481",
   "metadata": {},
   "outputs": [
    {
     "data": {
      "text/html": [
       "<div>\n",
       "<style scoped>\n",
       "    .dataframe tbody tr th:only-of-type {\n",
       "        vertical-align: middle;\n",
       "    }\n",
       "\n",
       "    .dataframe tbody tr th {\n",
       "        vertical-align: top;\n",
       "    }\n",
       "\n",
       "    .dataframe thead th {\n",
       "        text-align: right;\n",
       "    }\n",
       "</style>\n",
       "<table border=\"1\" class=\"dataframe\">\n",
       "  <thead>\n",
       "    <tr style=\"text-align: right;\">\n",
       "      <th></th>\n",
       "      <th>User_ID</th>\n",
       "      <th>Gender</th>\n",
       "      <th>Purchase</th>\n",
       "    </tr>\n",
       "  </thead>\n",
       "  <tbody>\n",
       "    <tr>\n",
       "      <th>0</th>\n",
       "      <td>1000001</td>\n",
       "      <td>F</td>\n",
       "      <td>334093</td>\n",
       "    </tr>\n",
       "    <tr>\n",
       "      <th>1</th>\n",
       "      <td>1000002</td>\n",
       "      <td>M</td>\n",
       "      <td>810472</td>\n",
       "    </tr>\n",
       "    <tr>\n",
       "      <th>2</th>\n",
       "      <td>1000003</td>\n",
       "      <td>M</td>\n",
       "      <td>341635</td>\n",
       "    </tr>\n",
       "    <tr>\n",
       "      <th>3</th>\n",
       "      <td>1000004</td>\n",
       "      <td>M</td>\n",
       "      <td>206468</td>\n",
       "    </tr>\n",
       "    <tr>\n",
       "      <th>4</th>\n",
       "      <td>1000005</td>\n",
       "      <td>M</td>\n",
       "      <td>821001</td>\n",
       "    </tr>\n",
       "    <tr>\n",
       "      <th>...</th>\n",
       "      <td>...</td>\n",
       "      <td>...</td>\n",
       "      <td>...</td>\n",
       "    </tr>\n",
       "    <tr>\n",
       "      <th>5886</th>\n",
       "      <td>1006036</td>\n",
       "      <td>F</td>\n",
       "      <td>4116058</td>\n",
       "    </tr>\n",
       "    <tr>\n",
       "      <th>5887</th>\n",
       "      <td>1006037</td>\n",
       "      <td>F</td>\n",
       "      <td>1119538</td>\n",
       "    </tr>\n",
       "    <tr>\n",
       "      <th>5888</th>\n",
       "      <td>1006038</td>\n",
       "      <td>F</td>\n",
       "      <td>90034</td>\n",
       "    </tr>\n",
       "    <tr>\n",
       "      <th>5889</th>\n",
       "      <td>1006039</td>\n",
       "      <td>F</td>\n",
       "      <td>590319</td>\n",
       "    </tr>\n",
       "    <tr>\n",
       "      <th>5890</th>\n",
       "      <td>1006040</td>\n",
       "      <td>M</td>\n",
       "      <td>1653299</td>\n",
       "    </tr>\n",
       "  </tbody>\n",
       "</table>\n",
       "<p>5891 rows × 3 columns</p>\n",
       "</div>"
      ],
      "text/plain": [
       "      User_ID Gender  Purchase\n",
       "0     1000001      F    334093\n",
       "1     1000002      M    810472\n",
       "2     1000003      M    341635\n",
       "3     1000004      M    206468\n",
       "4     1000005      M    821001\n",
       "...       ...    ...       ...\n",
       "5886  1006036      F   4116058\n",
       "5887  1006037      F   1119538\n",
       "5888  1006038      F     90034\n",
       "5889  1006039      F    590319\n",
       "5890  1006040      M   1653299\n",
       "\n",
       "[5891 rows x 3 columns]"
      ]
     },
     "execution_count": 36,
     "metadata": {},
     "output_type": "execute_result"
    }
   ],
   "source": [
    "avgamt_gender = df.groupby(['User_ID', 'Gender'])[['Purchase']].sum()\n",
    "avgamt_gender = avgamt_gender.reset_index()\n",
    "avgamt_gender"
   ]
  },
  {
   "cell_type": "code",
   "execution_count": 37,
   "id": "06e07ed1",
   "metadata": {},
   "outputs": [
    {
     "data": {
      "text/plain": [
       "Gender\n",
       "M    4225\n",
       "F    1666\n",
       "Name: count, dtype: int64"
      ]
     },
     "execution_count": 37,
     "metadata": {},
     "output_type": "execute_result"
    }
   ],
   "source": [
    "avgamt_gender['Gender'].value_counts()"
   ]
  },
  {
   "cell_type": "code",
   "execution_count": 38,
   "id": "44e4bfc4",
   "metadata": {},
   "outputs": [
    {
     "data": {
      "image/png": "[encoded data removed]",
      "text/plain": [
       "<Figure size 1600x600 with 2 Axes>"
      ]
     },
     "metadata": {},
     "output_type": "display_data"
    }
   ],
   "source": [
    "fig, axs = plt.subplots(nrows=1, ncols=2, figsize=(16,6))\n",
    "sns.histplot(data=avgamt_gender[avgamt_gender['Gender']=='F']['Purchase'], ax=axs[0]).set_title(\"Females Avg Spend\")\n",
    "sns.histplot(data=avgamt_gender[avgamt_gender['Gender']=='M']['Purchase'], ax=axs[1]).set_title(\"Males Avg Spend\")\n",
    "plt.show()"
   ]
  },
  {
   "cell_type": "markdown",
   "id": "08d0603e",
   "metadata": {},
   "source": [
    "Average amount spend by males are higher than females. "
   ]
  },
  {
   "cell_type": "code",
   "execution_count": 39,
   "id": "75952893",
   "metadata": {},
   "outputs": [
    {
     "data": {
      "text/html": [
       "<div>\n",
       "<style scoped>\n",
       "    .dataframe tbody tr th:only-of-type {\n",
       "        vertical-align: middle;\n",
       "    }\n",
       "\n",
       "    .dataframe tbody tr th {\n",
       "        vertical-align: top;\n",
       "    }\n",
       "\n",
       "    .dataframe thead th {\n",
       "        text-align: right;\n",
       "    }\n",
       "</style>\n",
       "<table border=\"1\" class=\"dataframe\">\n",
       "  <thead>\n",
       "    <tr style=\"text-align: right;\">\n",
       "      <th></th>\n",
       "      <th>Purchase</th>\n",
       "    </tr>\n",
       "    <tr>\n",
       "      <th>Gender</th>\n",
       "      <th></th>\n",
       "    </tr>\n",
       "  </thead>\n",
       "  <tbody>\n",
       "    <tr>\n",
       "      <th>F</th>\n",
       "      <td>712024.394958</td>\n",
       "    </tr>\n",
       "    <tr>\n",
       "      <th>M</th>\n",
       "      <td>925344.402367</td>\n",
       "    </tr>\n",
       "  </tbody>\n",
       "</table>\n",
       "</div>"
      ],
      "text/plain": [
       "             Purchase\n",
       "Gender               \n",
       "F       712024.394958\n",
       "M       925344.402367"
      ]
     },
     "execution_count": 39,
     "metadata": {},
     "output_type": "execute_result"
    }
   ],
   "source": [
    "avgamt_gender.groupby(['Gender'])[['Purchase']].mean()"
   ]
  },
  {
   "cell_type": "code",
   "execution_count": 40,
   "id": "bfd6c2bc",
   "metadata": {},
   "outputs": [
    {
     "data": {
      "text/plain": [
       "Gender\n",
       "F    1186232642\n",
       "M    3909580100\n",
       "Name: Purchase, dtype: int64"
      ]
     },
     "execution_count": 40,
     "metadata": {},
     "output_type": "execute_result"
    }
   ],
   "source": [
    "avgamt_gender.groupby(['Gender'])['Purchase'].sum()"
   ]
  },
  {
   "cell_type": "markdown",
   "id": "2de47eeb",
   "metadata": {},
   "source": [
    "1. Average amount for the males is 925344 for the entire population whereas it's much lesser for females(712024).\n",
    "2. Total amount spend by males is around 4 billion whereas for females it's 1.2 billion.   "
   ]
  },
  {
   "cell_type": "code",
   "execution_count": 41,
   "id": "4d0a2d12",
   "metadata": {},
   "outputs": [],
   "source": [
    "avgamt_male = avgamt_gender[avgamt_gender['Gender']=='M']\n",
    "avgamt_female = avgamt_gender[avgamt_gender['Gender']=='F']"
   ]
  },
  {
   "cell_type": "markdown",
   "id": "115a876b",
   "metadata": {},
   "source": [
    "#### Finding the sample(sample size=1000) for avg purchase amount for males and females "
   ]
  },
  {
   "cell_type": "code",
   "execution_count": 42,
   "id": "3e4da0b0",
   "metadata": {},
   "outputs": [],
   "source": [
    "genders = [\"M\", \"F\"]\n",
    "sample_size = 1000\n",
    "num_repitions = 1000\n",
    "male_means = []\n",
    "female_means = []\n",
    "\n",
    "for i in range(num_repitions):\n",
    "    male_mean = avgamt_male.sample(sample_size, replace=True)['Purchase'].mean()\n",
    "    female_mean = avgamt_female.sample(sample_size, replace=True)['Purchase'].mean()\n",
    "    \n",
    "    male_means.append(male_mean)\n",
    "    female_means.append(female_mean)"
   ]
  },
  {
   "cell_type": "code",
   "execution_count": 43,
   "id": "bf078277",
   "metadata": {},
   "outputs": [
    {
     "data": {
      "text/plain": [
       "[998713.536, 911543.401, 954867.53, 917749.849, 894113.36]"
      ]
     },
     "execution_count": 43,
     "metadata": {},
     "output_type": "execute_result"
    }
   ],
   "source": [
    "male_means[:5]"
   ]
  },
  {
   "cell_type": "code",
   "execution_count": 44,
   "id": "a6f59aff",
   "metadata": {},
   "outputs": [
    {
     "data": {
      "text/plain": [
       "[697852.805, 680643.546, 693955.114, 680069.661, 684885.828]"
      ]
     },
     "execution_count": 44,
     "metadata": {},
     "output_type": "execute_result"
    }
   ],
   "source": [
    "female_means[:5]"
   ]
  },
  {
   "cell_type": "code",
   "execution_count": 45,
   "id": "6b218d7e",
   "metadata": {},
   "outputs": [
    {
     "data": {
      "image/png": "[encoded data removed]",
      "text/plain": [
       "<Figure size 2000x600 with 2 Axes>"
      ]
     },
     "metadata": {},
     "output_type": "display_data"
    }
   ],
   "source": [
    "fig, axis = plt.subplots(nrows=1, ncols=2, figsize=(20, 6))\n",
    "\n",
    "axis[0].hist(male_means, bins=35)\n",
    "axis[1].hist(female_means, bins=35)\n",
    "axis[0].set_title(\"Male distribution of means, Sample size: 1000\")\n",
    "axis[1].set_title(\"Female distribution of means, Sample size: 1000\")\n",
    "\n",
    "plt.show()"
   ]
  },
  {
   "cell_type": "markdown",
   "id": "70fc933b",
   "metadata": {},
   "source": [
    "The sample means seems to be normally distributed for both males and females. Also, we can see the mean of the sample means are closer to the population mean as per central limit theorem. "
   ]
  },
  {
   "cell_type": "markdown",
   "id": "49f45c3f",
   "metadata": {},
   "source": [
    "#### i. Calculating 90% confidence interval for sample size 1000:"
   ]
  },
  {
   "cell_type": "code",
   "execution_count": 46,
   "id": "33fc0d2e",
   "metadata": {},
   "outputs": [
    {
     "name": "stdout",
     "output_type": "stream",
     "text": [
      "Population avg spend amount for Male: 925344.40\n",
      "Population avg spend amount for Female: 712024.39\n",
      "\n",
      "Sample avg spend amount for Male: 924414.31\n",
      "Sample avg spend amount for Female: 712822.94\n",
      "\n",
      "Sample std for Male: 30799.50\n",
      "Sample std for Female: 25363.44\n",
      "\n",
      "Sample std error for Male: 973.97\n",
      "Sample std error for Female: 802.06\n",
      "\n",
      "Male_CI:  [922812.1330368362, 926016.4802691637]\n",
      "Female_CI:  [711503.5456331727, 714142.3314028274]\n"
     ]
    }
   ],
   "source": [
    "#Taking the values for z at 90%, 95% and 99% confidence interval as:\n",
    "z90=1.645 #90% Confidence Interval\n",
    "z95=1.960 #95% Confidence Interval\n",
    "z99=2.576 #99% Confidence Interval\n",
    "\n",
    "print(\"Population avg spend amount for Male: {:.2f}\".format(avgamt_male['Purchase'].mean()))\n",
    "print(\"Population avg spend amount for Female: {:.2f}\\n\".format(avgamt_female['Purchase'].mean()))\n",
    "\n",
    "print(\"Sample avg spend amount for Male: {:.2f}\".format(np.mean(male_means)))\n",
    "print(\"Sample avg spend amount for Female: {:.2f}\\n\".format(np.mean(female_means)))\n",
    "\n",
    "print(\"Sample std for Male: {:.2f}\".format(pd.Series(male_means).std()))\n",
    "print(\"Sample std for Female: {:.2f}\\n\".format(pd.Series(female_means).std()))\n",
    "\n",
    "print(\"Sample std error for Male: {:.2f}\".format(pd.Series(male_means).std()/np.sqrt(1000))) \n",
    "print(\"Sample std error for Female: {:.2f}\\n\".format(pd.Series(female_means).std()/np.sqrt(1000)))\n",
    "\n",
    "sample_mean_male=np.mean(male_means)\n",
    "sample_mean_female=np.mean(female_means)\n",
    "\n",
    "sample_std_male=pd.Series(male_means).std()\n",
    "sample_std_female=pd.Series(female_means).std()\n",
    "\n",
    "sample_std_error_male=sample_std_male/np.sqrt(1000)\n",
    "sample_std_error_female=sample_std_female/np.sqrt(1000)\n",
    "\n",
    "Upper_Limit_male=z90*sample_std_error_male + sample_mean_male\n",
    "Lower_Limit_male=sample_mean_male - z90*sample_std_error_male\n",
    "\n",
    "Upper_Limit_female=z90*sample_std_error_female + sample_mean_female\n",
    "Lower_Limit_female=sample_mean_female - z90*sample_std_error_female\n",
    "\n",
    "print(\"Male_CI: \",[Lower_Limit_male,Upper_Limit_male])\n",
    "print(\"Female_CI: \",[Lower_Limit_female,Upper_Limit_female])\n"
   ]
  },
  {
   "cell_type": "markdown",
   "id": "3831560d",
   "metadata": {},
   "source": [
    "##### Now using the Confidence interval at 90%, we can say that:\n",
    "1. Average amount spend by male customers lie in the range 9,22,940.71 - 9,26,225.18\n",
    "2. Average amount spend by female customers lie in range 7,10,425.64 - 7,13,064.55"
   ]
  },
  {
   "cell_type": "markdown",
   "id": "452e41eb",
   "metadata": {},
   "source": [
    "#### ii.Calculating 95% confidence interval for sample size 1000:"
   ]
  },
  {
   "cell_type": "code",
   "execution_count": 47,
   "id": "51c82e35",
   "metadata": {},
   "outputs": [
    {
     "name": "stdout",
     "output_type": "stream",
     "text": [
      "Population avg spend amount for Male: 925344.40\n",
      "Population avg spend amount for Female: 712024.39\n",
      "\n",
      "Sample avg spend amount for Male: 924414.31\n",
      "Sample avg spend amount for Female: 712822.94\n",
      "\n",
      "Sample std for Male: 30799.50\n",
      "Sample std for Female: 25363.44\n",
      "\n",
      "Sample std error for Male: 973.97\n",
      "Sample std error for Female: 802.06\n",
      "\n",
      "Male_CI:  [922505.3338337409, 926323.279472259]\n",
      "Female_CI:  [711250.8959318227, 714394.9811041774]\n"
     ]
    }
   ],
   "source": [
    "#Taking the values for z at 90%, 95% and 99% confidence interval as:\n",
    "z90=1.645 #90% Confidence Interval\n",
    "z95=1.960 #95% Confidence Interval\n",
    "z99=2.576 #99% Confidence Interval\n",
    "\n",
    "print(\"Population avg spend amount for Male: {:.2f}\".format(avgamt_male['Purchase'].mean()))\n",
    "print(\"Population avg spend amount for Female: {:.2f}\\n\".format(avgamt_female['Purchase'].mean()))\n",
    "\n",
    "print(\"Sample avg spend amount for Male: {:.2f}\".format(np.mean(male_means)))\n",
    "print(\"Sample avg spend amount for Female: {:.2f}\\n\".format(np.mean(female_means)))\n",
    "\n",
    "print(\"Sample std for Male: {:.2f}\".format(pd.Series(male_means).std()))\n",
    "print(\"Sample std for Female: {:.2f}\\n\".format(pd.Series(female_means).std()))\n",
    "\n",
    "print(\"Sample std error for Male: {:.2f}\".format(pd.Series(male_means).std()/np.sqrt(1000))) \n",
    "print(\"Sample std error for Female: {:.2f}\\n\".format(pd.Series(female_means).std()/np.sqrt(1000)))\n",
    "\n",
    "sample_mean_male=np.mean(male_means)\n",
    "sample_mean_female=np.mean(female_means)\n",
    "\n",
    "sample_std_male=pd.Series(male_means).std()\n",
    "sample_std_female=pd.Series(female_means).std()\n",
    "\n",
    "sample_std_error_male=sample_std_male/np.sqrt(1000)\n",
    "sample_std_error_female=sample_std_female/np.sqrt(1000)\n",
    "\n",
    "Upper_Limit_male=z95*sample_std_error_male + sample_mean_male\n",
    "Lower_Limit_male=sample_mean_male - z95*sample_std_error_male\n",
    "\n",
    "Upper_Limit_female=z95*sample_std_error_female + sample_mean_female\n",
    "Lower_Limit_female=sample_mean_female - z95*sample_std_error_female\n",
    "\n",
    "print(\"Male_CI: \",[Lower_Limit_male,Upper_Limit_male])\n",
    "print(\"Female_CI: \",[Lower_Limit_female,Upper_Limit_female])"
   ]
  },
  {
   "cell_type": "markdown",
   "id": "1a683580",
   "metadata": {},
   "source": [
    "##### Now using the Confidence interval at 95%, we can say that:\n",
    "1. Average amount spend by male customers lie in the range 9,22,626.24 - 9,26,539.65\n",
    "2. Average amount spend by female customers lie in range 7,10,172.98 - 7,13,317.21"
   ]
  },
  {
   "cell_type": "markdown",
   "id": "6f87cc43",
   "metadata": {},
   "source": [
    "#### iii. Calculating 99% confidence interval for sample size 1000:"
   ]
  },
  {
   "cell_type": "code",
   "execution_count": 48,
   "id": "1199f34a",
   "metadata": {},
   "outputs": [
    {
     "name": "stdout",
     "output_type": "stream",
     "text": [
      "Population avg spend amount for Male: 925344.40\n",
      "Population avg spend amount for Female: 712024.39\n",
      "\n",
      "Sample avg spend amount for Male: 924414.31\n",
      "Sample avg spend amount for Female: 712822.94\n",
      "\n",
      "Sample std for Male: 30799.50\n",
      "Sample std for Female: 25363.44\n",
      "\n",
      "Sample std error for Male: 973.97\n",
      "Sample std error for Female: 802.06\n",
      "\n",
      "Male_CI:  [921905.3709476881, 926923.2423583118]\n",
      "Female_CI:  [710756.8254047384, 714889.0516312617]\n"
     ]
    }
   ],
   "source": [
    "#Taking the values for z at 90%, 95% and 99% confidence interval as:\n",
    "z90=1.645 #90% Confidence Interval\n",
    "z95=1.960 #95% Confidence Interval\n",
    "z99=2.576 #99% Confidence Interval\n",
    "\n",
    "print(\"Population avg spend amount for Male: {:.2f}\".format(avgamt_male['Purchase'].mean()))\n",
    "print(\"Population avg spend amount for Female: {:.2f}\\n\".format(avgamt_female['Purchase'].mean()))\n",
    "\n",
    "print(\"Sample avg spend amount for Male: {:.2f}\".format(np.mean(male_means)))\n",
    "print(\"Sample avg spend amount for Female: {:.2f}\\n\".format(np.mean(female_means)))\n",
    "\n",
    "print(\"Sample std for Male: {:.2f}\".format(pd.Series(male_means).std()))\n",
    "print(\"Sample std for Female: {:.2f}\\n\".format(pd.Series(female_means).std()))\n",
    "\n",
    "print(\"Sample std error for Male: {:.2f}\".format(pd.Series(male_means).std()/np.sqrt(1000))) \n",
    "print(\"Sample std error for Female: {:.2f}\\n\".format(pd.Series(female_means).std()/np.sqrt(1000)))\n",
    "\n",
    "sample_mean_male=np.mean(male_means)\n",
    "sample_mean_female=np.mean(female_means)\n",
    "\n",
    "sample_std_male=pd.Series(male_means).std()\n",
    "sample_std_female=pd.Series(female_means).std()\n",
    "\n",
    "sample_std_error_male=sample_std_male/np.sqrt(1000)\n",
    "sample_std_error_female=sample_std_female/np.sqrt(1000)\n",
    "\n",
    "Upper_Limit_male=z99*sample_std_error_male + sample_mean_male\n",
    "Lower_Limit_male=sample_mean_male - z99*sample_std_error_male\n",
    "\n",
    "Upper_Limit_female=z99*sample_std_error_female + sample_mean_female\n",
    "Lower_Limit_female=sample_mean_female - z99*sample_std_error_female\n",
    "\n",
    "print(\"Male_CI: \",[Lower_Limit_male,Upper_Limit_male])\n",
    "print(\"Female_CI: \",[Lower_Limit_female,Upper_Limit_female])"
   ]
  },
  {
   "cell_type": "markdown",
   "id": "c3186d6c",
   "metadata": {},
   "source": [
    "##### Now using the Confidence interval at 99%, we can say that:\n",
    "1. Average amount spend by male customers lie in the range 9,22,011.28 - 9,27,154.61\n",
    "2. Average amount spend by female customers lie in range 7,09,678.88 - 7,13,811.31"
   ]
  },
  {
   "cell_type": "markdown",
   "id": "20724575",
   "metadata": {},
   "source": [
    "## H. CLT and Confidence Interval considering 'marital status'"
   ]
  },
  {
   "cell_type": "code",
   "execution_count": 49,
   "id": "ddd553a3",
   "metadata": {},
   "outputs": [
    {
     "data": {
      "text/html": [
       "<div>\n",
       "<style scoped>\n",
       "    .dataframe tbody tr th:only-of-type {\n",
       "        vertical-align: middle;\n",
       "    }\n",
       "\n",
       "    .dataframe tbody tr th {\n",
       "        vertical-align: top;\n",
       "    }\n",
       "\n",
       "    .dataframe thead th {\n",
       "        text-align: right;\n",
       "    }\n",
       "</style>\n",
       "<table border=\"1\" class=\"dataframe\">\n",
       "  <thead>\n",
       "    <tr style=\"text-align: right;\">\n",
       "      <th></th>\n",
       "      <th>User_ID</th>\n",
       "      <th>Marital_Status</th>\n",
       "      <th>Purchase</th>\n",
       "    </tr>\n",
       "  </thead>\n",
       "  <tbody>\n",
       "    <tr>\n",
       "      <th>0</th>\n",
       "      <td>1000001</td>\n",
       "      <td>0</td>\n",
       "      <td>334093</td>\n",
       "    </tr>\n",
       "    <tr>\n",
       "      <th>1</th>\n",
       "      <td>1000002</td>\n",
       "      <td>0</td>\n",
       "      <td>810472</td>\n",
       "    </tr>\n",
       "    <tr>\n",
       "      <th>2</th>\n",
       "      <td>1000003</td>\n",
       "      <td>0</td>\n",
       "      <td>341635</td>\n",
       "    </tr>\n",
       "    <tr>\n",
       "      <th>3</th>\n",
       "      <td>1000004</td>\n",
       "      <td>1</td>\n",
       "      <td>206468</td>\n",
       "    </tr>\n",
       "    <tr>\n",
       "      <th>4</th>\n",
       "      <td>1000005</td>\n",
       "      <td>1</td>\n",
       "      <td>821001</td>\n",
       "    </tr>\n",
       "    <tr>\n",
       "      <th>...</th>\n",
       "      <td>...</td>\n",
       "      <td>...</td>\n",
       "      <td>...</td>\n",
       "    </tr>\n",
       "    <tr>\n",
       "      <th>5886</th>\n",
       "      <td>1006036</td>\n",
       "      <td>1</td>\n",
       "      <td>4116058</td>\n",
       "    </tr>\n",
       "    <tr>\n",
       "      <th>5887</th>\n",
       "      <td>1006037</td>\n",
       "      <td>0</td>\n",
       "      <td>1119538</td>\n",
       "    </tr>\n",
       "    <tr>\n",
       "      <th>5888</th>\n",
       "      <td>1006038</td>\n",
       "      <td>0</td>\n",
       "      <td>90034</td>\n",
       "    </tr>\n",
       "    <tr>\n",
       "      <th>5889</th>\n",
       "      <td>1006039</td>\n",
       "      <td>1</td>\n",
       "      <td>590319</td>\n",
       "    </tr>\n",
       "    <tr>\n",
       "      <th>5890</th>\n",
       "      <td>1006040</td>\n",
       "      <td>0</td>\n",
       "      <td>1653299</td>\n",
       "    </tr>\n",
       "  </tbody>\n",
       "</table>\n",
       "<p>5891 rows × 3 columns</p>\n",
       "</div>"
      ],
      "text/plain": [
       "      User_ID  Marital_Status  Purchase\n",
       "0     1000001               0    334093\n",
       "1     1000002               0    810472\n",
       "2     1000003               0    341635\n",
       "3     1000004               1    206468\n",
       "4     1000005               1    821001\n",
       "...       ...             ...       ...\n",
       "5886  1006036               1   4116058\n",
       "5887  1006037               0   1119538\n",
       "5888  1006038               0     90034\n",
       "5889  1006039               1    590319\n",
       "5890  1006040               0   1653299\n",
       "\n",
       "[5891 rows x 3 columns]"
      ]
     },
     "execution_count": 49,
     "metadata": {},
     "output_type": "execute_result"
    }
   ],
   "source": [
    "avg_Marital = df.groupby(['User_ID', 'Marital_Status'])[['Purchase']].sum()\n",
    "avg_Marital = avg_Marital.reset_index()\n",
    "avg_Marital"
   ]
  },
  {
   "cell_type": "code",
   "execution_count": 50,
   "id": "f5e7b94d",
   "metadata": {},
   "outputs": [],
   "source": [
    "avgamt_married = avg_Marital[avg_Marital['Marital_Status']==1]\n",
    "avgamt_single = avg_Marital[avg_Marital['Marital_Status']==0]"
   ]
  },
  {
   "cell_type": "code",
   "execution_count": 51,
   "id": "55e8ba80",
   "metadata": {},
   "outputs": [],
   "source": [
    "sample_size = 1000\n",
    "num_repitions = 1000\n",
    "married_means = []\n",
    "single_means = []\n",
    "\n",
    "for i in range(num_repitions):\n",
    "    avg_married = avg_Marital[avg_Marital['Marital_Status']==1].sample(sample_size, replace=True)['Purchase'].mean()\n",
    "    avg_single = avg_Marital[avg_Marital['Marital_Status']==0].sample(sample_size, replace=True)['Purchase'].mean()\n",
    "    \n",
    "    married_means.append(avg_married)\n",
    "    single_means.append(avg_single)"
   ]
  },
  {
   "cell_type": "code",
   "execution_count": 52,
   "id": "bdff19c9",
   "metadata": {},
   "outputs": [
    {
     "data": {
      "text/plain": [
       "[850374.795, 790666.676, 907786.562, 887917.247, 816338.197]"
      ]
     },
     "execution_count": 52,
     "metadata": {},
     "output_type": "execute_result"
    }
   ],
   "source": [
    "married_means[:5]"
   ]
  },
  {
   "cell_type": "code",
   "execution_count": 53,
   "id": "990f3f61",
   "metadata": {},
   "outputs": [
    {
     "data": {
      "text/plain": [
       "[894266.168, 867370.226, 892059.822, 867933.023, 863286.785]"
      ]
     },
     "execution_count": 53,
     "metadata": {},
     "output_type": "execute_result"
    }
   ],
   "source": [
    "single_means[:5]"
   ]
  },
  {
   "cell_type": "code",
   "execution_count": 54,
   "id": "724e6f10",
   "metadata": {},
   "outputs": [
    {
     "data": {
      "image/png": "[encoded data removed]",
      "text/plain": [
       "<Figure size 2000x600 with 2 Axes>"
      ]
     },
     "metadata": {},
     "output_type": "display_data"
    }
   ],
   "source": [
    "fig, axis = plt.subplots(nrows=1, ncols=2, figsize=(20, 6))\n",
    "axis[0].hist(married_means, bins=35)\n",
    "axis[0].set_title(\"Married distribution of means, Sample size: 1000\")\n",
    "axis[1].hist(single_means, bins=35)\n",
    "axis[1].set_title(\"Unmarried distribution of means, Sample size: 1000\")\n",
    "plt.show()"
   ]
  },
  {
   "cell_type": "markdown",
   "id": "3b8ac268",
   "metadata": {},
   "source": [
    "The sample means seems to be normally distributed for both married and singles. Also, we can see the mean of the sample means are closer to the population mean as per central limit theorem."
   ]
  },
  {
   "cell_type": "code",
   "execution_count": 55,
   "id": "87c5967a",
   "metadata": {},
   "outputs": [
    {
     "data": {
      "text/plain": [
       "Marital_Status\n",
       "0    3417\n",
       "1    2474\n",
       "Name: count, dtype: int64"
      ]
     },
     "execution_count": 55,
     "metadata": {},
     "output_type": "execute_result"
    }
   ],
   "source": [
    "avg_Marital['Marital_Status'].value_counts()"
   ]
  },
  {
   "cell_type": "markdown",
   "id": "d68ca06a",
   "metadata": {},
   "source": [
    "#### i. Calculating 90% confidence interval for avg expenses for married/single for sample size 1000:"
   ]
  },
  {
   "cell_type": "code",
   "execution_count": 56,
   "id": "040300e5",
   "metadata": {},
   "outputs": [],
   "source": [
    "#Taking the values for z at 90%, 95% and 99% confidence interval as:\n",
    "z90=1.645 #90% Confidence Interval\n",
    "z95=1.960 #95% Confidence Interval\n",
    "z99=2.576 #99% Confidence Interval"
   ]
  },
  {
   "cell_type": "code",
   "execution_count": 57,
   "id": "7db70c0f",
   "metadata": {},
   "outputs": [
    {
     "name": "stdout",
     "output_type": "stream",
     "text": [
      "Population avg spend amount for Single: 880575.78\n",
      "\n",
      "Sample avg spend amount for Married: 843219.18\n",
      "Sample avg spend amount for Single: 879449.52\n",
      "\n",
      "Sample std for Married: 29036.54\n",
      "Sample std for Single: 30386.20\n",
      "\n",
      "Sample std error for Married: 918.22\n",
      "Sample std error for Single: 960.90\n",
      "\n",
      "Married_CI:  [841708.716114046, 844821.3551531638]\n",
      "Single_CI:  [877868.8470085376, 881030.1948634625]\n"
     ]
    }
   ],
   "source": [
    "print(\"Population avg spend amount for Single: {:.2f}\\n\".format(avgamt_single['Purchase'].mean()))\n",
    "\n",
    "print(\"Sample avg spend amount for Married: {:.2f}\".format(np.mean(married_means)))\n",
    "print(\"Sample avg spend amount for Single: {:.2f}\\n\".format(np.mean(single_means)))\n",
    "\n",
    "print(\"Sample std for Married: {:.2f}\".format(pd.Series(married_means).std()))\n",
    "print(\"Sample std for Single: {:.2f}\\n\".format(pd.Series(single_means).std()))\n",
    "\n",
    "print(\"Sample std error for Married: {:.2f}\".format(pd.Series(married_means).std()/np.sqrt(1000))) \n",
    "print(\"Sample std error for Single: {:.2f}\\n\".format(pd.Series(single_means).std()/np.sqrt(1000)))\n",
    "\n",
    "sample_mean_married=np.mean(married_means)\n",
    "sample_mean_single=np.mean(single_means)\n",
    "\n",
    "sample_std_married=pd.Series(married_means).std()\n",
    "sample_std_single=pd.Series(single_means).std()\n",
    "\n",
    "sample_std_error_married=sample_std_married/np.sqrt(1000)\n",
    "sample_std_error_single=sample_std_single/np.sqrt(1000)\n",
    "\n",
    "Upper_Limit_married=z90*sample_std_error_male + sample_mean_married\n",
    "Lower_Limit_married=sample_mean_married - z90*sample_std_error_married\n",
    "\n",
    "Upper_Limit_single=z90*sample_std_error_single + sample_mean_single\n",
    "Lower_Limit_single=sample_mean_single - z90*sample_std_error_single\n",
    "\n",
    "print(\"Married_CI: \",[Lower_Limit_married,Upper_Limit_married])\n",
    "print(\"Single_CI: \",[Lower_Limit_single,Upper_Limit_single])"
   ]
  },
  {
   "cell_type": "markdown",
   "id": "2be79186",
   "metadata": {},
   "source": [
    "#### ii. Calculating 95% confidence interval for avg expenses for married/single for sample size 1000:"
   ]
  },
  {
   "cell_type": "code",
   "execution_count": 58,
   "id": "84ecf86b",
   "metadata": {},
   "outputs": [
    {
     "name": "stdout",
     "output_type": "stream",
     "text": [
      "Population avg spend amount for Married: 843526.80\n",
      "Population avg spend amount for Single: 880575.78\n",
      "\n",
      "Sample avg spend amount for Married: 843219.18\n",
      "Sample avg spend amount for Single: 879449.52\n",
      "\n",
      "Sample std for Married: 29036.54\n",
      "Sample std for Single: 30386.20\n",
      "\n",
      "Sample std error for Married: 918.22\n",
      "Sample std error for Single: 960.90\n",
      "\n",
      "Married_CI:  [841419.4780543315, 845128.154356259]\n",
      "Single_CI:  [877566.1647671086, 881332.8771048915]\n"
     ]
    }
   ],
   "source": [
    "print(\"Population avg spend amount for Married: {:.2f}\".format(avgamt_married['Purchase'].mean()))\n",
    "print(\"Population avg spend amount for Single: {:.2f}\\n\".format(avgamt_single['Purchase'].mean()))\n",
    "\n",
    "print(\"Sample avg spend amount for Married: {:.2f}\".format(np.mean(married_means)))\n",
    "print(\"Sample avg spend amount for Single: {:.2f}\\n\".format(np.mean(single_means)))\n",
    "\n",
    "print(\"Sample std for Married: {:.2f}\".format(pd.Series(married_means).std()))\n",
    "print(\"Sample std for Single: {:.2f}\\n\".format(pd.Series(single_means).std()))\n",
    "\n",
    "print(\"Sample std error for Married: {:.2f}\".format(pd.Series(married_means).std()/np.sqrt(1000))) \n",
    "print(\"Sample std error for Single: {:.2f}\\n\".format(pd.Series(single_means).std()/np.sqrt(1000)))\n",
    "\n",
    "sample_mean_married=np.mean(married_means)\n",
    "sample_mean_single=np.mean(single_means)\n",
    "\n",
    "sample_std_married=pd.Series(married_means).std()\n",
    "sample_std_single=pd.Series(single_means).std()\n",
    "\n",
    "sample_std_error_married=sample_std_married/np.sqrt(1000)\n",
    "sample_std_error_single=sample_std_single/np.sqrt(1000)\n",
    "\n",
    "Upper_Limit_married=z95*sample_std_error_male + sample_mean_married\n",
    "Lower_Limit_married=sample_mean_married - z95*sample_std_error_married\n",
    "\n",
    "Upper_Limit_single=z95*sample_std_error_single + sample_mean_single\n",
    "Lower_Limit_single=sample_mean_single - z95*sample_std_error_single\n",
    "\n",
    "print(\"Married_CI: \",[Lower_Limit_married,Upper_Limit_married])\n",
    "print(\"Single_CI: \",[Lower_Limit_single,Upper_Limit_single])"
   ]
  },
  {
   "cell_type": "markdown",
   "id": "b4982a46",
   "metadata": {},
   "source": [
    "#### iii. Calculating 99% confidence interval for avg expenses for married/single for sample size 1000:"
   ]
  },
  {
   "cell_type": "code",
   "execution_count": 59,
   "id": "69b5f185",
   "metadata": {},
   "outputs": [
    {
     "name": "stdout",
     "output_type": "stream",
     "text": [
      "Population avg spend amount for Married: 843526.80\n",
      "Population avg spend amount for Single: 880575.78\n",
      "\n",
      "Sample avg spend amount for Married: 843219.18\n",
      "Sample avg spend amount for Single: 879449.52\n",
      "\n",
      "Sample std for Married: 29036.54\n",
      "Sample std for Single: 30386.20\n",
      "\n",
      "Sample std error for Married: 918.22\n",
      "Sample std error for Single: 960.90\n",
      "\n",
      "Married_CI:  [840853.8569597785, 845728.1172423118]\n",
      "Single_CI:  [876974.2528283142, 881924.7890436859]\n"
     ]
    }
   ],
   "source": [
    "print(\"Population avg spend amount for Married: {:.2f}\".format(avgamt_married['Purchase'].mean()))\n",
    "print(\"Population avg spend amount for Single: {:.2f}\\n\".format(avgamt_single['Purchase'].mean()))\n",
    "\n",
    "print(\"Sample avg spend amount for Married: {:.2f}\".format(np.mean(married_means)))\n",
    "print(\"Sample avg spend amount for Single: {:.2f}\\n\".format(np.mean(single_means)))\n",
    "\n",
    "print(\"Sample std for Married: {:.2f}\".format(pd.Series(married_means).std()))\n",
    "print(\"Sample std for Single: {:.2f}\\n\".format(pd.Series(single_means).std()))\n",
    "\n",
    "print(\"Sample std error for Married: {:.2f}\".format(pd.Series(married_means).std()/np.sqrt(1000))) \n",
    "print(\"Sample std error for Single: {:.2f}\\n\".format(pd.Series(single_means).std()/np.sqrt(1000)))\n",
    "\n",
    "sample_mean_married=np.mean(married_means)\n",
    "sample_mean_single=np.mean(single_means)\n",
    "\n",
    "sample_std_married=pd.Series(married_means).std()\n",
    "sample_std_single=pd.Series(single_means).std()\n",
    "\n",
    "sample_std_error_married=sample_std_married/np.sqrt(1000)\n",
    "sample_std_error_single=sample_std_single/np.sqrt(1000)\n",
    "\n",
    "Upper_Limit_married=z99*sample_std_error_male + sample_mean_married\n",
    "Lower_Limit_married=sample_mean_married - z99*sample_std_error_married\n",
    "\n",
    "Upper_Limit_single=z99*sample_std_error_single + sample_mean_single\n",
    "Lower_Limit_single=sample_mean_single - z99*sample_std_error_single\n",
    "\n",
    "print(\"Married_CI: \",[Lower_Limit_married,Upper_Limit_married])\n",
    "print(\"Single_CI: \",[Lower_Limit_single,Upper_Limit_single])"
   ]
  },
  {
   "cell_type": "markdown",
   "id": "d5905d90",
   "metadata": {},
   "source": [
    "For married and singles, it can be seen with larger sample size the sample mean gets closer to tthe population mean. And at greater confidence interval, the range increases."
   ]
  },
  {
   "cell_type": "markdown",
   "id": "c701c71b",
   "metadata": {},
   "source": [
    "## I. CLT and Confidence Interval considering 'Age'"
   ]
  },
  {
   "cell_type": "code",
   "execution_count": 60,
   "id": "37a2fcdd",
   "metadata": {},
   "outputs": [
    {
     "data": {
      "text/plain": [
       "Age\n",
       "26-35    2053\n",
       "36-45    1167\n",
       "18-25    1069\n",
       "46-50     531\n",
       "51-55     481\n",
       "55+       372\n",
       "0-17      218\n",
       "Name: count, dtype: int64"
      ]
     },
     "execution_count": 60,
     "metadata": {},
     "output_type": "execute_result"
    }
   ],
   "source": [
    "avgamt_age = df.groupby(['User_ID', 'Age'])[['Purchase']].sum()\n",
    "avgamt_age = avgamt_age.reset_index()\n",
    "avgamt_age['Age'].value_counts()"
   ]
  },
  {
   "cell_type": "code",
   "execution_count": 61,
   "id": "e15dc641",
   "metadata": {},
   "outputs": [],
   "source": [
    "sample_size = 200\n",
    "num_repitions = 1000\n",
    "\n",
    "all_sample_means = {}\n",
    "\n",
    "age_intervals = ['26-35', '36-45', '18-25', '46-50', '51-55', '55+', '0-17']\n",
    "for i in age_intervals:\n",
    "    all_sample_means[i] = []\n",
    "    \n",
    "for i in age_intervals:\n",
    "    for j in range(num_repitions):\n",
    "        \n",
    "        mean = avgamt_age[avgamt_age['Age']==i].sample(sample_size, replace=True)['Purchase'].mean()\n",
    "        all_sample_means[i].append(mean)"
   ]
  },
  {
   "cell_type": "markdown",
   "id": "cd04f18b",
   "metadata": {},
   "source": [
    "#### i. Calculating 90% confidence interval for avg expenses for different age groups for sample size 200: "
   ]
  },
  {
   "cell_type": "code",
   "execution_count": 62,
   "id": "2cd31eb9",
   "metadata": {},
   "outputs": [
    {
     "name": "stdout",
     "output_type": "stream",
     "text": [
      "For age 26-35 confidence interval of means: (952206.28, 1027112.35)\n",
      "For age 36-45 confidence interval of means: (832398.89, 926932.53)\n",
      "For age 18-25 confidence interval of means: (810187.65, 899538.59)\n",
      "For age 46-50 confidence interval of means: (726209.00, 858888.57)\n",
      "For age 51-55 confidence interval of means: (703772.36, 822629.48)\n",
      "For age 55+ confidence interval of means: (487032.92, 592361.57)\n",
      "For age 0-17 confidence interval of means: (542320.46, 695415.16)\n"
     ]
    }
   ],
   "source": [
    "z90=1.645 #90% Confidence Interval\n",
    "z95=1.960 #95% Confidence Interval\n",
    "z99=2.576 #99% Confidence Interval\n",
    "\n",
    "sample_size = 200\n",
    "num_repitions = 1000\n",
    "\n",
    "all_means = {}\n",
    "\n",
    "age_intervals = ['26-35', '36-45', '18-25', '46-50', '51-55', '55+', '0-17']\n",
    "for i in age_intervals:\n",
    "    all_means[i] = []\n",
    "\n",
    "for i in age_intervals:\n",
    "    for j in range(num_repitions):\n",
    "        mean = avgamt_age[avgamt_age['Age']==i].sample(sample_size, replace=True)['Purchase'].mean()\n",
    "        all_means[i].append(mean)\n",
    "for val in ['26-35', '36-45', '18-25', '46-50', '51-55', '55+', '0-17']:\n",
    "    \n",
    "    new_df = avgamt_age[avgamt_age['Age']==val] \n",
    "    \n",
    "    std_error = z90*new_df['Purchase'].std()/np.sqrt(len(new_df))\n",
    "    sample_mean = new_df['Purchase'].mean()\n",
    "    lower_lim = sample_mean - std_error\n",
    "    upper_lim = sample_mean + std_error\n",
    "\n",
    "    print(\"For age {} confidence interval of means: ({:.2f}, {:.2f})\".format(val, lower_lim, upper_lim))"
   ]
  },
  {
   "cell_type": "markdown",
   "id": "25804ddf",
   "metadata": {},
   "source": [
    "#### ii. Calculating 95% confidence interval for avg expenses for different age groups for sample size 200:"
   ]
  },
  {
   "cell_type": "code",
   "execution_count": 63,
   "id": "759e865c",
   "metadata": {},
   "outputs": [
    {
     "name": "stdout",
     "output_type": "stream",
     "text": [
      "For age 26-35 confidence interval of means: (945034.42, 1034284.21)\n",
      "For age 36-45 confidence interval of means: (823347.80, 935983.62)\n",
      "For age 18-25 confidence interval of means: (801632.78, 908093.46)\n",
      "For age 46-50 confidence interval of means: (713505.63, 871591.93)\n",
      "For age 51-55 confidence interval of means: (692392.43, 834009.42)\n",
      "For age 55+ confidence interval of means: (476948.26, 602446.23)\n",
      "For age 0-17 confidence interval of means: (527662.46, 710073.17)\n"
     ]
    }
   ],
   "source": [
    "z90=1.645 #90% Confidence Interval\n",
    "z95=1.960 #95% Confidence Interval\n",
    "z99=2.576 #99% Confidence Interval\n",
    "\n",
    "sample_size = 200\n",
    "num_repitions = 1000\n",
    "\n",
    "all_means = {}\n",
    "\n",
    "age_intervals = ['26-35', '36-45', '18-25', '46-50', '51-55', '55+', '0-17']\n",
    "for i in age_intervals:\n",
    "    all_means[i] = []\n",
    "\n",
    "for i in age_intervals:\n",
    "    for j in range(num_repitions):\n",
    "        mean = avgamt_age[avgamt_age['Age']==i].sample(sample_size, replace=True)['Purchase'].mean()\n",
    "        all_means[i].append(mean)\n",
    "for val in ['26-35', '36-45', '18-25', '46-50', '51-55', '55+', '0-17']:\n",
    "    \n",
    "    new_df = avgamt_age[avgamt_age['Age']==val] \n",
    "    \n",
    "    std_error = z95*new_df['Purchase'].std()/np.sqrt(len(new_df))\n",
    "    sample_mean = new_df['Purchase'].mean()\n",
    "    lower_lim = sample_mean - std_error\n",
    "    upper_lim = sample_mean + std_error\n",
    "\n",
    "    print(\"For age {} confidence interval of means: ({:.2f}, {:.2f})\".format(val, lower_lim, upper_lim))"
   ]
  },
  {
   "cell_type": "markdown",
   "id": "8e424ef0",
   "metadata": {},
   "source": [
    "#### iii. Calculating 99% confidence interval for avg expenses for different age groups for sample size 200:"
   ]
  },
  {
   "cell_type": "code",
   "execution_count": 64,
   "id": "95f5c0ff",
   "metadata": {},
   "outputs": [
    {
     "name": "stdout",
     "output_type": "stream",
     "text": [
      "For age 26-35 confidence interval of means: (931009.46, 1048309.18)\n",
      "For age 36-45 confidence interval of means: (805647.89, 953683.53)\n",
      "For age 18-25 confidence interval of means: (784903.24, 924823.00)\n",
      "For age 46-50 confidence interval of means: (688663.50, 896434.06)\n",
      "For age 51-55 confidence interval of means: (670138.33, 856263.52)\n",
      "For age 55+ confidence interval of means: (457227.15, 622167.34)\n",
      "For age 0-17 confidence interval of means: (498997.92, 738737.71)\n"
     ]
    }
   ],
   "source": [
    "z90=1.645 #90% Confidence Interval\n",
    "z95=1.960 #95% Confidence Interval\n",
    "z99=2.576 #99% Confidence Interval\n",
    "\n",
    "sample_size = 200\n",
    "num_repitions = 1000\n",
    "\n",
    "all_means = {}\n",
    "\n",
    "age_intervals = ['26-35', '36-45', '18-25', '46-50', '51-55', '55+', '0-17']\n",
    "for i in age_intervals:\n",
    "    all_means[i] = []\n",
    "\n",
    "for i in age_intervals:\n",
    "    for j in range(num_repitions):\n",
    "        mean = avgamt_age[avgamt_age['Age']==i].sample(sample_size, replace=True)['Purchase'].mean()\n",
    "        all_means[i].append(mean)\n",
    "for val in ['26-35', '36-45', '18-25', '46-50', '51-55', '55+', '0-17']:\n",
    "    \n",
    "    new_df = avgamt_age[avgamt_age['Age']==val] \n",
    "    \n",
    "    std_error = z99*new_df['Purchase'].std()/np.sqrt(len(new_df))\n",
    "    sample_mean = new_df['Purchase'].mean()\n",
    "    lower_lim = sample_mean - std_error\n",
    "    upper_lim = sample_mean + std_error\n",
    "\n",
    "    print(\"For age {} confidence interval of means: ({:.2f}, {:.2f})\".format(val, lower_lim, upper_lim))"
   ]
  },
  {
   "cell_type": "markdown",
   "id": "fb4a0248",
   "metadata": {},
   "source": [
    " We can see the sample means are closer to the population mean for the differnt age groups. And, with greater confidence interval we have the upper limit and lower limit range increases. As we have seen for gender and marital status, by increasing the sample size we can have the mean of the sample means closer to the population. "
   ]
  },
  {
   "cell_type": "code",
   "execution_count": null,
   "id": "657a86ff",
   "metadata": {},
   "outputs": [],
   "source": []
  },
  {
   "cell_type": "markdown",
   "id": "420e20cf",
   "metadata": {},
   "source": [
    "## Recommendations:\n",
    "1. Men outspend women, suggesting an opportunity for the company to retain and attract more male customers\n",
    "\n",
    "2. Product Categories 1, 5, and 8 exhibit the highest purchase frequencies, indicating strong demand for products in these categories. The company should consider increasing its offerings in these product categories.\n",
    "\n",
    "3. Unmarried customers tend to spend more than their married counterparts. Therefore, the company should prioritize customer acquisition strategies targeting unmarried individuals\n",
    "\n",
    "4. Customers in the age 26-35 spend more money than the others, So company should focus on acquisition of customers who are in the age 26-35.\n",
    "\n",
    "5. The majority of customers aged 26-35 reside in City Categories B and A. To boost business, the company should concentrate on catering to this demographic in these specific cities.\n",
    "\n",
    "6. Male customers living in City_Category C spend more money than other male customers living in B or C, Selling more products in the City_Category C will help the company increase the revenue.\n",
    "\n",
    "7. Some of the Product category like 19,20,13 have very less purchase. Company can think of dropping it.\n",
    "\n",
    "8. The top 10 users who have purchased more company should give more offers and discounts so that they can be retained and can be helpful for companies business. \n",
    "\n",
    "9. The occupation which are contributing more company can think of offering credit cards or other benefits to those customers by liasing with some financial partners to increase the sales.\n",
    "\n",
    "10. The top products should be given focus in order to maintain the quality in order to further increase the sales of those products.\n",
    "\n",
    "11. People who are staying in city for an year have contributed to 35% of the total purchase amount. Company can focus on such customer base who are neither too old nor too new residents in the city.\n",
    "\n",
    "12. We have highest frequency of purchase order between 5k and 10k, company can focus more on these mid range products to increase the sales."
   ]
  },
  {
   "cell_type": "markdown",
   "id": "22b8cdaa",
   "metadata": {},
   "source": [
    "#### Que1: Are women spending more money per transaction than men? Why or Why not?\n",
    "1. No. Because CI's of male and female do not overlap and also  upper limits of female purchase CI are lesser than lower limits of male purchase CI. This proves that men usually spend more than women  \n",
    "\n",
    "##### The reason for less purchase by women could have several factors:\n",
    "1. Salary can be a factor in less purchase.\n",
    "2. may be lesser female-based products\n",
    "3. may be males doing the purchase for their female partner."
   ]
  },
  {
   "cell_type": "markdown",
   "id": "59298d63",
   "metadata": {},
   "source": [
    "#### Que 2: Confidence intervals and distribution of the mean of the expenses by female and male customers.\n",
    "\n",
    "1. At Confidence interval at 90%: \n",
    "    \n",
    "a. Average amount spend by male customers : [9,22,940.71 - 9,26,225.18]\n",
    "b. Average amount spend by female customers: [7,10,425.64 - 7,13,064.55]\n",
    "\n",
    "2. At Confidence interval at 95%:\n",
    "    \n",
    "a. Average amount spend by male customers: [9,22,626.24 - 9,26,539.65]\n",
    "b. Average amount spend by female customers: [7,10,172.98 - 7,13,317.21]\n",
    "\n",
    "3. Confidence interval at 99%:\n",
    "\n",
    "a. Average amount spend by male customers: [9,22,011.28 - 9,27,154.61]\n",
    "b. Average amount spend by female customers: [7,09,678.88 - 7,13,811.31]"
   ]
  },
  {
   "cell_type": "markdown",
   "id": "f895637a",
   "metadata": {},
   "source": [
    "#### Que 3: Are confidence intervals of average male and female spending overlapping? How can Walmart leverage this conclusion to make changes or improvements?\n",
    "1. No. Confidence intervals of average male and female spending are not overlapping.\n",
    "2. This trend can be changed via introducing female centric marketing strategies by Walmart so that more female customers are attracted to increase female purchases to achieve comparable statistics close to 50%."
   ]
  },
  {
   "cell_type": "markdown",
   "id": "023007de",
   "metadata": {},
   "source": [
    "#### Que 4: Results when the same activity is performed for Married vs Single\n",
    "\n",
    "i. At 90% CI:\n",
    "Married_CI:  [842283.82, 845464.27]\n",
    "Single_CI:  [879613.00, 882660.65]\n",
    "\n",
    "ii. At 95% CI:\n",
    "Married_CI:  [841988.61, 845778.09]\n",
    "Single_CI:  [879321.21, 882952.44]\n",
    "\n",
    "iii. At 99% CI:\n",
    "Married_CI:  [841411.33, 846391.78]\n",
    "Single_CI:  [878750.58, 883523.06]"
   ]
  },
  {
   "cell_type": "markdown",
   "id": "74fd8bb4",
   "metadata": {},
   "source": [
    "#### Que 5: Results when the same activity is performed for Age\n",
    "\n",
    "At 99% Confidence Interval with sample size 200\n",
    "\n",
    "1. For age 26-35 confidence interval of means: [931009.46, 1048309.18]\n",
    "2. For age 36-45 confidence interval of means: [805647.89, 953683.53]\n",
    "3. For age 18-25 confidence interval of means: [784903.24, 924823.00]\n",
    "4. For age 46-50 confidence interval of means: [688663.50, 896434.06]\n",
    "5. For age 51-55 confidence interval of means: [670138.33, 856263.52]\n",
    "6. For age 55+ confidence interval of means: [457227.15, 622167.34]\n",
    "7. For age 0-17 confidence interval of means: [498997.92, 738737.71]"
   ]
  },
  {
   "cell_type": "code",
   "execution_count": null,
   "id": "861c5362",
   "metadata": {},
   "outputs": [],
   "source": []
  }
 ],
 "metadata": {
  "kernelspec": {
   "display_name": "Python 3 (ipykernel)",
   "language": "python",
   "name": "python3"
  },
  "language_info": {
   "codemirror_mode": {
    "name": "ipython",
    "version": 3
   },
   "file_extension": ".py",
   "mimetype": "text/x-python",
   "name": "python",
   "nbconvert_exporter": "python",
   "pygments_lexer": "ipython3",
   "version": "3.11.4"
  }
 },
 "nbformat": 4,
 "nbformat_minor": 5
}
